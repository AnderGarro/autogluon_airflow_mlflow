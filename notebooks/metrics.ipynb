{
 "cells": [
  {
   "cell_type": "code",
   "execution_count": 1,
   "id": "79e9a064",
   "metadata": {},
   "outputs": [
    {
     "name": "stderr",
     "output_type": "stream",
     "text": [
      "/usr/local/lib/python3.6/dist-packages/psycopg2/__init__.py:144: UserWarning:\n",
      "\n",
      "The psycopg2 wheel package will be renamed from release 2.8; in order to keep installing from binary please use \"pip install psycopg2-binary\" instead. For details see: <http://initd.org/psycopg/docs/install.html#binary-install-from-pypi>.\n",
      "\n"
     ]
    }
   ],
   "source": [
    "import pandas as pd\n",
    "pd.options.mode.chained_assignment = None  # default='warn'>\n",
    "import numpy as np\n",
    "from sklearn.model_selection import train_test_split\n",
    "import collections\n",
    "import sys\n",
    "from mlxtend.evaluate import confusion_matrix\n",
    "import matplotlib.pyplot as plt\n",
    "from mlxtend.plotting import plot_confusion_matrix\n",
    "from matplotlib import cm as cmap\n",
    "import plotly.express as px\n",
    "import psycopg2\n",
    "from psycopg2.extras import execute_values\n",
    "\n",
    "import warnings\n",
    "warnings.filterwarnings(\"ignore\")\n",
    "import mlflow\n",
    "from sklearn.metrics import accuracy_score, recall_score, f1_score, average_precision_score\n",
    "from urllib.parse import urlparse"
   ]
  },
  {
   "cell_type": "markdown",
   "id": "935c3ac4",
   "metadata": {},
   "source": [
    "# 1. Best models"
   ]
  },
  {
   "cell_type": "code",
   "execution_count": 3,
   "id": "7d9ebc6c",
   "metadata": {},
   "outputs": [],
   "source": [
    "def get_experiment_id(base_name,mlflow):\n",
    "    n = 0\n",
    "    experiment_id = 0\n",
    "    while True:\n",
    "        try:\n",
    "            name = mlflow.get_experiment(n).name\n",
    "        except:\n",
    "            break\n",
    "        print(name)\n",
    "        if base_name == name:\n",
    "            experiment_id = n\n",
    "            break\n",
    "        else:\n",
    "            n = n + 1\n",
    "    return experiment_id"
   ]
  },
  {
   "cell_type": "markdown",
   "id": "28bb456e",
   "metadata": {},
   "source": [
    "## Show best models URI"
   ]
  },
  {
   "cell_type": "code",
   "execution_count": 7,
   "id": "d5b9af33",
   "metadata": {},
   "outputs": [
    {
     "name": "stdout",
     "output_type": "stream",
     "text": [
      "Default\n",
      "stroke_demo\n",
      "stroke_demo_airflow\n",
      "stroke_demo_airflow 2\n"
     ]
    },
    {
     "data": {
      "text/plain": [
       "5     s3://mlflow-bucket/mlflow/2/f75705cb01384f4c8c...\n",
       "4     s3://mlflow-bucket/mlflow/2/98a7d9fe9c9c4d6b80...\n",
       "1     s3://mlflow-bucket/mlflow/2/44d0ef11caae4384bb...\n",
       "3     s3://mlflow-bucket/mlflow/2/6a65fd92dbd84f9fa8...\n",
       "2     s3://mlflow-bucket/mlflow/2/75a8af52df0a48df88...\n",
       "0     s3://mlflow-bucket/mlflow/2/30fc2c107c9c4acb92...\n",
       "11    s3://mlflow-bucket/mlflow/2/f99862d9229446c882...\n",
       "15    s3://mlflow-bucket/mlflow/2/62d96303dc094588b0...\n",
       "14    s3://mlflow-bucket/mlflow/2/78b471c6a42447af98...\n",
       "13    s3://mlflow-bucket/mlflow/2/18c9f475c25c44c59a...\n",
       "12    s3://mlflow-bucket/mlflow/2/2174a3b676c346208b...\n",
       "8     s3://mlflow-bucket/mlflow/2/457712eddb26411baf...\n",
       "10    s3://mlflow-bucket/mlflow/2/576f27d21fe646f09f...\n",
       "9     s3://mlflow-bucket/mlflow/2/ccc38096a89a45a3bc...\n",
       "7     s3://mlflow-bucket/mlflow/2/8b193c76dfa5454b85...\n",
       "6     s3://mlflow-bucket/mlflow/2/f2258f6dee7e4b4ca4...\n",
       "16    s3://mlflow-bucket/mlflow/2/8d89da5f79ff45cf9e...\n",
       "17    s3://mlflow-bucket/mlflow/2/6d2f333143c64db4bb...\n",
       "18    s3://mlflow-bucket/mlflow/2/094c7f7a7c354111b2...\n",
       "Name: artifact_uri, dtype: object"
      ]
     },
     "execution_count": 7,
     "metadata": {},
     "output_type": "execute_result"
    }
   ],
   "source": [
    "mlflow.set_tracking_uri(\"http://nginx:80\")\n",
    "    \n",
    "experiment_name     = 'stroke_demo_airflow'\n",
    "experiment_id = get_experiment_id(experiment_name,mlflow)\n",
    "print(experiment_name,experiment_id)\n",
    "\n",
    "# best artifact uri\n",
    "runs_metadata = mlflow.search_runs([experiment_id])\n",
    "best_artifact_uri = runs_metadata.sort_values(by='metrics.accuracy', ascending=False)['artifact_uri']\n",
    "best_artifact_uri"
   ]
  },
  {
   "cell_type": "code",
   "execution_count": 10,
   "id": "9bccfeac",
   "metadata": {},
   "outputs": [],
   "source": [
    "## Show best models info"
   ]
  },
  {
   "cell_type": "code",
   "execution_count": 9,
   "id": "5ae52af4",
   "metadata": {},
   "outputs": [
    {
     "data": {
      "text/html": [
       "<div>\n",
       "<style scoped>\n",
       "    .dataframe tbody tr th:only-of-type {\n",
       "        vertical-align: middle;\n",
       "    }\n",
       "\n",
       "    .dataframe tbody tr th {\n",
       "        vertical-align: top;\n",
       "    }\n",
       "\n",
       "    .dataframe thead th {\n",
       "        text-align: right;\n",
       "    }\n",
       "</style>\n",
       "<table border=\"1\" class=\"dataframe\">\n",
       "  <thead>\n",
       "    <tr style=\"text-align: right;\">\n",
       "      <th></th>\n",
       "      <th>run_id</th>\n",
       "      <th>experiment_id</th>\n",
       "      <th>status</th>\n",
       "      <th>artifact_uri</th>\n",
       "      <th>start_time</th>\n",
       "      <th>end_time</th>\n",
       "      <th>metrics.accuracy</th>\n",
       "      <th>metrics.recall</th>\n",
       "      <th>metrics.f1</th>\n",
       "      <th>tags.mlflow.source.type</th>\n",
       "      <th>tags.mlflow.user</th>\n",
       "      <th>tags.mlflow.log-model.history</th>\n",
       "      <th>tags.mlflow.source.name</th>\n",
       "    </tr>\n",
       "  </thead>\n",
       "  <tbody>\n",
       "    <tr>\n",
       "      <th>0</th>\n",
       "      <td>30fc2c107c9c4acb92d499ef81a5d203</td>\n",
       "      <td>2</td>\n",
       "      <td>FINISHED</td>\n",
       "      <td>s3://mlflow-bucket/mlflow/2/30fc2c107c9c4acb92...</td>\n",
       "      <td>2021-05-07 05:10:06.671000+00:00</td>\n",
       "      <td>2021-05-07 05:10:55.030000+00:00</td>\n",
       "      <td>0.750000</td>\n",
       "      <td>0.750000</td>\n",
       "      <td>0.722222</td>\n",
       "      <td>LOCAL</td>\n",
       "      <td>airflow</td>\n",
       "      <td>[{\"run_id\": \"30fc2c107c9c4acb92d499ef81a5d203\"...</td>\n",
       "      <td>/usr/local/bin/airflow</td>\n",
       "    </tr>\n",
       "    <tr>\n",
       "      <th>1</th>\n",
       "      <td>44d0ef11caae4384bbc76f9425d0fdef</td>\n",
       "      <td>2</td>\n",
       "      <td>FINISHED</td>\n",
       "      <td>s3://mlflow-bucket/mlflow/2/44d0ef11caae4384bb...</td>\n",
       "      <td>2021-05-07 04:10:10.068000+00:00</td>\n",
       "      <td>2021-05-07 04:10:49.154000+00:00</td>\n",
       "      <td>0.882353</td>\n",
       "      <td>0.882353</td>\n",
       "      <td>0.869406</td>\n",
       "      <td>LOCAL</td>\n",
       "      <td>airflow</td>\n",
       "      <td>[{\"run_id\": \"44d0ef11caae4384bbc76f9425d0fdef\"...</td>\n",
       "      <td>/usr/local/bin/airflow</td>\n",
       "    </tr>\n",
       "    <tr>\n",
       "      <th>2</th>\n",
       "      <td>75a8af52df0a48df88a4aee71a6dbb1e</td>\n",
       "      <td>2</td>\n",
       "      <td>FINISHED</td>\n",
       "      <td>s3://mlflow-bucket/mlflow/2/75a8af52df0a48df88...</td>\n",
       "      <td>2021-05-07 03:10:05.515000+00:00</td>\n",
       "      <td>2021-05-07 03:10:49.425000+00:00</td>\n",
       "      <td>0.781250</td>\n",
       "      <td>0.781250</td>\n",
       "      <td>0.755952</td>\n",
       "      <td>LOCAL</td>\n",
       "      <td>airflow</td>\n",
       "      <td>[{\"run_id\": \"75a8af52df0a48df88a4aee71a6dbb1e\"...</td>\n",
       "      <td>/usr/local/bin/airflow</td>\n",
       "    </tr>\n",
       "    <tr>\n",
       "      <th>3</th>\n",
       "      <td>6a65fd92dbd84f9fa81d64e93370cbdc</td>\n",
       "      <td>2</td>\n",
       "      <td>FINISHED</td>\n",
       "      <td>s3://mlflow-bucket/mlflow/2/6a65fd92dbd84f9fa8...</td>\n",
       "      <td>2021-05-07 02:10:08.289000+00:00</td>\n",
       "      <td>2021-05-07 02:10:51.527000+00:00</td>\n",
       "      <td>0.833333</td>\n",
       "      <td>0.833333</td>\n",
       "      <td>0.856209</td>\n",
       "      <td>LOCAL</td>\n",
       "      <td>airflow</td>\n",
       "      <td>[{\"run_id\": \"6a65fd92dbd84f9fa81d64e93370cbdc\"...</td>\n",
       "      <td>/usr/local/bin/airflow</td>\n",
       "    </tr>\n",
       "    <tr>\n",
       "      <th>4</th>\n",
       "      <td>98a7d9fe9c9c4d6b80892185cab8af90</td>\n",
       "      <td>2</td>\n",
       "      <td>FINISHED</td>\n",
       "      <td>s3://mlflow-bucket/mlflow/2/98a7d9fe9c9c4d6b80...</td>\n",
       "      <td>2021-05-07 01:10:05.557000+00:00</td>\n",
       "      <td>2021-05-07 01:10:47.913000+00:00</td>\n",
       "      <td>0.892857</td>\n",
       "      <td>0.892857</td>\n",
       "      <td>0.880495</td>\n",
       "      <td>LOCAL</td>\n",
       "      <td>airflow</td>\n",
       "      <td>[{\"run_id\": \"98a7d9fe9c9c4d6b80892185cab8af90\"...</td>\n",
       "      <td>/usr/local/bin/airflow</td>\n",
       "    </tr>\n",
       "    <tr>\n",
       "      <th>5</th>\n",
       "      <td>f75705cb01384f4c8cbfb24e5c6ac2eb</td>\n",
       "      <td>2</td>\n",
       "      <td>FINISHED</td>\n",
       "      <td>s3://mlflow-bucket/mlflow/2/f75705cb01384f4c8c...</td>\n",
       "      <td>2021-05-07 00:10:09.941000+00:00</td>\n",
       "      <td>2021-05-07 00:10:40.412000+00:00</td>\n",
       "      <td>0.980769</td>\n",
       "      <td>0.980769</td>\n",
       "      <td>0.971247</td>\n",
       "      <td>LOCAL</td>\n",
       "      <td>airflow</td>\n",
       "      <td>[{\"run_id\": \"f75705cb01384f4c8cbfb24e5c6ac2eb\"...</td>\n",
       "      <td>/usr/local/bin/airflow</td>\n",
       "    </tr>\n",
       "    <tr>\n",
       "      <th>6</th>\n",
       "      <td>f2258f6dee7e4b4ca4404102046ddc53</td>\n",
       "      <td>2</td>\n",
       "      <td>FINISHED</td>\n",
       "      <td>s3://mlflow-bucket/mlflow/2/f2258f6dee7e4b4ca4...</td>\n",
       "      <td>2021-05-06 23:10:08.538000+00:00</td>\n",
       "      <td>2021-05-06 23:10:24.197000+00:00</td>\n",
       "      <td>0.000000</td>\n",
       "      <td>0.000000</td>\n",
       "      <td>0.000000</td>\n",
       "      <td>LOCAL</td>\n",
       "      <td>airflow</td>\n",
       "      <td>[{\"run_id\": \"f2258f6dee7e4b4ca4404102046ddc53\"...</td>\n",
       "      <td>/usr/local/bin/airflow</td>\n",
       "    </tr>\n",
       "    <tr>\n",
       "      <th>7</th>\n",
       "      <td>8b193c76dfa5454b85d34bb2538c9cc7</td>\n",
       "      <td>2</td>\n",
       "      <td>FINISHED</td>\n",
       "      <td>s3://mlflow-bucket/mlflow/2/8b193c76dfa5454b85...</td>\n",
       "      <td>2021-05-06 22:10:05.957000+00:00</td>\n",
       "      <td>2021-05-06 22:10:23.249000+00:00</td>\n",
       "      <td>0.000000</td>\n",
       "      <td>0.000000</td>\n",
       "      <td>0.000000</td>\n",
       "      <td>LOCAL</td>\n",
       "      <td>airflow</td>\n",
       "      <td>[{\"run_id\": \"8b193c76dfa5454b85d34bb2538c9cc7\"...</td>\n",
       "      <td>/usr/local/bin/airflow</td>\n",
       "    </tr>\n",
       "    <tr>\n",
       "      <th>8</th>\n",
       "      <td>457712eddb26411baf4cdc7a1740c6f4</td>\n",
       "      <td>2</td>\n",
       "      <td>FINISHED</td>\n",
       "      <td>s3://mlflow-bucket/mlflow/2/457712eddb26411baf...</td>\n",
       "      <td>2021-05-06 21:10:08.332000+00:00</td>\n",
       "      <td>2021-05-06 21:10:21.150000+00:00</td>\n",
       "      <td>0.000000</td>\n",
       "      <td>0.000000</td>\n",
       "      <td>0.000000</td>\n",
       "      <td>LOCAL</td>\n",
       "      <td>airflow</td>\n",
       "      <td>[{\"run_id\": \"457712eddb26411baf4cdc7a1740c6f4\"...</td>\n",
       "      <td>/usr/local/bin/airflow</td>\n",
       "    </tr>\n",
       "    <tr>\n",
       "      <th>9</th>\n",
       "      <td>ccc38096a89a45a3bc952f031d52897b</td>\n",
       "      <td>2</td>\n",
       "      <td>FINISHED</td>\n",
       "      <td>s3://mlflow-bucket/mlflow/2/ccc38096a89a45a3bc...</td>\n",
       "      <td>2021-05-06 20:10:09.871000+00:00</td>\n",
       "      <td>2021-05-06 20:10:24.279000+00:00</td>\n",
       "      <td>0.000000</td>\n",
       "      <td>0.000000</td>\n",
       "      <td>0.000000</td>\n",
       "      <td>LOCAL</td>\n",
       "      <td>airflow</td>\n",
       "      <td>[{\"run_id\": \"ccc38096a89a45a3bc952f031d52897b\"...</td>\n",
       "      <td>/usr/local/bin/airflow</td>\n",
       "    </tr>\n",
       "    <tr>\n",
       "      <th>10</th>\n",
       "      <td>576f27d21fe646f09f85dd39bf1a5d77</td>\n",
       "      <td>2</td>\n",
       "      <td>FINISHED</td>\n",
       "      <td>s3://mlflow-bucket/mlflow/2/576f27d21fe646f09f...</td>\n",
       "      <td>2021-05-06 19:10:10.183000+00:00</td>\n",
       "      <td>2021-05-06 19:10:20.085000+00:00</td>\n",
       "      <td>0.000000</td>\n",
       "      <td>0.000000</td>\n",
       "      <td>0.000000</td>\n",
       "      <td>LOCAL</td>\n",
       "      <td>airflow</td>\n",
       "      <td>[{\"run_id\": \"576f27d21fe646f09f85dd39bf1a5d77\"...</td>\n",
       "      <td>/usr/local/bin/airflow</td>\n",
       "    </tr>\n",
       "    <tr>\n",
       "      <th>11</th>\n",
       "      <td>f99862d9229446c882bd593a8a02a0bb</td>\n",
       "      <td>2</td>\n",
       "      <td>FINISHED</td>\n",
       "      <td>s3://mlflow-bucket/mlflow/2/f99862d9229446c882...</td>\n",
       "      <td>2021-05-06 18:10:07.200000+00:00</td>\n",
       "      <td>2021-05-06 18:10:19.286000+00:00</td>\n",
       "      <td>0.000000</td>\n",
       "      <td>0.000000</td>\n",
       "      <td>0.000000</td>\n",
       "      <td>LOCAL</td>\n",
       "      <td>airflow</td>\n",
       "      <td>[{\"run_id\": \"f99862d9229446c882bd593a8a02a0bb\"...</td>\n",
       "      <td>/usr/local/bin/airflow</td>\n",
       "    </tr>\n",
       "    <tr>\n",
       "      <th>12</th>\n",
       "      <td>2174a3b676c346208b5932220e2ac3c1</td>\n",
       "      <td>2</td>\n",
       "      <td>FINISHED</td>\n",
       "      <td>s3://mlflow-bucket/mlflow/2/2174a3b676c346208b...</td>\n",
       "      <td>2021-05-06 17:10:07.084000+00:00</td>\n",
       "      <td>2021-05-06 17:10:18.458000+00:00</td>\n",
       "      <td>0.000000</td>\n",
       "      <td>0.000000</td>\n",
       "      <td>0.000000</td>\n",
       "      <td>LOCAL</td>\n",
       "      <td>airflow</td>\n",
       "      <td>[{\"run_id\": \"2174a3b676c346208b5932220e2ac3c1\"...</td>\n",
       "      <td>/usr/local/bin/airflow</td>\n",
       "    </tr>\n",
       "    <tr>\n",
       "      <th>13</th>\n",
       "      <td>18c9f475c25c44c59a843e322f83ba6a</td>\n",
       "      <td>2</td>\n",
       "      <td>FINISHED</td>\n",
       "      <td>s3://mlflow-bucket/mlflow/2/18c9f475c25c44c59a...</td>\n",
       "      <td>2021-05-06 16:10:08.497000+00:00</td>\n",
       "      <td>2021-05-06 16:10:21.289000+00:00</td>\n",
       "      <td>0.000000</td>\n",
       "      <td>0.000000</td>\n",
       "      <td>0.000000</td>\n",
       "      <td>LOCAL</td>\n",
       "      <td>airflow</td>\n",
       "      <td>[{\"run_id\": \"18c9f475c25c44c59a843e322f83ba6a\"...</td>\n",
       "      <td>/usr/local/bin/airflow</td>\n",
       "    </tr>\n",
       "    <tr>\n",
       "      <th>14</th>\n",
       "      <td>78b471c6a42447af98128489b0cc913b</td>\n",
       "      <td>2</td>\n",
       "      <td>FINISHED</td>\n",
       "      <td>s3://mlflow-bucket/mlflow/2/78b471c6a42447af98...</td>\n",
       "      <td>2021-05-06 15:10:06.999000+00:00</td>\n",
       "      <td>2021-05-06 15:10:18.518000+00:00</td>\n",
       "      <td>0.000000</td>\n",
       "      <td>0.000000</td>\n",
       "      <td>0.000000</td>\n",
       "      <td>LOCAL</td>\n",
       "      <td>airflow</td>\n",
       "      <td>[{\"run_id\": \"78b471c6a42447af98128489b0cc913b\"...</td>\n",
       "      <td>/usr/local/bin/airflow</td>\n",
       "    </tr>\n",
       "    <tr>\n",
       "      <th>15</th>\n",
       "      <td>62d96303dc094588b0336e131719a731</td>\n",
       "      <td>2</td>\n",
       "      <td>FINISHED</td>\n",
       "      <td>s3://mlflow-bucket/mlflow/2/62d96303dc094588b0...</td>\n",
       "      <td>2021-05-06 14:10:07.924000+00:00</td>\n",
       "      <td>2021-05-06 14:10:20.428000+00:00</td>\n",
       "      <td>0.000000</td>\n",
       "      <td>0.000000</td>\n",
       "      <td>0.000000</td>\n",
       "      <td>LOCAL</td>\n",
       "      <td>airflow</td>\n",
       "      <td>[{\"run_id\": \"62d96303dc094588b0336e131719a731\"...</td>\n",
       "      <td>/usr/local/bin/airflow</td>\n",
       "    </tr>\n",
       "    <tr>\n",
       "      <th>16</th>\n",
       "      <td>8d89da5f79ff45cf9e3c19c5b4a7a417</td>\n",
       "      <td>2</td>\n",
       "      <td>FINISHED</td>\n",
       "      <td>s3://mlflow-bucket/mlflow/2/8d89da5f79ff45cf9e...</td>\n",
       "      <td>2021-05-06 13:26:53.890000+00:00</td>\n",
       "      <td>2021-05-06 13:27:09.160000+00:00</td>\n",
       "      <td>0.000000</td>\n",
       "      <td>0.000000</td>\n",
       "      <td>0.000000</td>\n",
       "      <td>LOCAL</td>\n",
       "      <td>airflow</td>\n",
       "      <td>[{\"run_id\": \"8d89da5f79ff45cf9e3c19c5b4a7a417\"...</td>\n",
       "      <td>/usr/local/bin/airflow</td>\n",
       "    </tr>\n",
       "    <tr>\n",
       "      <th>17</th>\n",
       "      <td>6d2f333143c64db4bbeb9f6094e86680</td>\n",
       "      <td>2</td>\n",
       "      <td>FAILED</td>\n",
       "      <td>s3://mlflow-bucket/mlflow/2/6d2f333143c64db4bb...</td>\n",
       "      <td>2021-05-06 13:18:35.026000+00:00</td>\n",
       "      <td>2021-05-06 13:18:35.101000+00:00</td>\n",
       "      <td>NaN</td>\n",
       "      <td>NaN</td>\n",
       "      <td>NaN</td>\n",
       "      <td>LOCAL</td>\n",
       "      <td>airflow</td>\n",
       "      <td>None</td>\n",
       "      <td>/usr/local/bin/airflow</td>\n",
       "    </tr>\n",
       "    <tr>\n",
       "      <th>18</th>\n",
       "      <td>094c7f7a7c354111b2f8b46880e4d539</td>\n",
       "      <td>2</td>\n",
       "      <td>FAILED</td>\n",
       "      <td>s3://mlflow-bucket/mlflow/2/094c7f7a7c354111b2...</td>\n",
       "      <td>2021-05-06 13:17:28.158000+00:00</td>\n",
       "      <td>2021-05-06 13:17:28.224000+00:00</td>\n",
       "      <td>NaN</td>\n",
       "      <td>NaN</td>\n",
       "      <td>NaN</td>\n",
       "      <td>LOCAL</td>\n",
       "      <td>airflow</td>\n",
       "      <td>None</td>\n",
       "      <td>/usr/local/bin/airflow</td>\n",
       "    </tr>\n",
       "  </tbody>\n",
       "</table>\n",
       "</div>"
      ],
      "text/plain": [
       "                              run_id experiment_id    status  \\\n",
       "0   30fc2c107c9c4acb92d499ef81a5d203             2  FINISHED   \n",
       "1   44d0ef11caae4384bbc76f9425d0fdef             2  FINISHED   \n",
       "2   75a8af52df0a48df88a4aee71a6dbb1e             2  FINISHED   \n",
       "3   6a65fd92dbd84f9fa81d64e93370cbdc             2  FINISHED   \n",
       "4   98a7d9fe9c9c4d6b80892185cab8af90             2  FINISHED   \n",
       "5   f75705cb01384f4c8cbfb24e5c6ac2eb             2  FINISHED   \n",
       "6   f2258f6dee7e4b4ca4404102046ddc53             2  FINISHED   \n",
       "7   8b193c76dfa5454b85d34bb2538c9cc7             2  FINISHED   \n",
       "8   457712eddb26411baf4cdc7a1740c6f4             2  FINISHED   \n",
       "9   ccc38096a89a45a3bc952f031d52897b             2  FINISHED   \n",
       "10  576f27d21fe646f09f85dd39bf1a5d77             2  FINISHED   \n",
       "11  f99862d9229446c882bd593a8a02a0bb             2  FINISHED   \n",
       "12  2174a3b676c346208b5932220e2ac3c1             2  FINISHED   \n",
       "13  18c9f475c25c44c59a843e322f83ba6a             2  FINISHED   \n",
       "14  78b471c6a42447af98128489b0cc913b             2  FINISHED   \n",
       "15  62d96303dc094588b0336e131719a731             2  FINISHED   \n",
       "16  8d89da5f79ff45cf9e3c19c5b4a7a417             2  FINISHED   \n",
       "17  6d2f333143c64db4bbeb9f6094e86680             2    FAILED   \n",
       "18  094c7f7a7c354111b2f8b46880e4d539             2    FAILED   \n",
       "\n",
       "                                         artifact_uri  \\\n",
       "0   s3://mlflow-bucket/mlflow/2/30fc2c107c9c4acb92...   \n",
       "1   s3://mlflow-bucket/mlflow/2/44d0ef11caae4384bb...   \n",
       "2   s3://mlflow-bucket/mlflow/2/75a8af52df0a48df88...   \n",
       "3   s3://mlflow-bucket/mlflow/2/6a65fd92dbd84f9fa8...   \n",
       "4   s3://mlflow-bucket/mlflow/2/98a7d9fe9c9c4d6b80...   \n",
       "5   s3://mlflow-bucket/mlflow/2/f75705cb01384f4c8c...   \n",
       "6   s3://mlflow-bucket/mlflow/2/f2258f6dee7e4b4ca4...   \n",
       "7   s3://mlflow-bucket/mlflow/2/8b193c76dfa5454b85...   \n",
       "8   s3://mlflow-bucket/mlflow/2/457712eddb26411baf...   \n",
       "9   s3://mlflow-bucket/mlflow/2/ccc38096a89a45a3bc...   \n",
       "10  s3://mlflow-bucket/mlflow/2/576f27d21fe646f09f...   \n",
       "11  s3://mlflow-bucket/mlflow/2/f99862d9229446c882...   \n",
       "12  s3://mlflow-bucket/mlflow/2/2174a3b676c346208b...   \n",
       "13  s3://mlflow-bucket/mlflow/2/18c9f475c25c44c59a...   \n",
       "14  s3://mlflow-bucket/mlflow/2/78b471c6a42447af98...   \n",
       "15  s3://mlflow-bucket/mlflow/2/62d96303dc094588b0...   \n",
       "16  s3://mlflow-bucket/mlflow/2/8d89da5f79ff45cf9e...   \n",
       "17  s3://mlflow-bucket/mlflow/2/6d2f333143c64db4bb...   \n",
       "18  s3://mlflow-bucket/mlflow/2/094c7f7a7c354111b2...   \n",
       "\n",
       "                         start_time                         end_time  \\\n",
       "0  2021-05-07 05:10:06.671000+00:00 2021-05-07 05:10:55.030000+00:00   \n",
       "1  2021-05-07 04:10:10.068000+00:00 2021-05-07 04:10:49.154000+00:00   \n",
       "2  2021-05-07 03:10:05.515000+00:00 2021-05-07 03:10:49.425000+00:00   \n",
       "3  2021-05-07 02:10:08.289000+00:00 2021-05-07 02:10:51.527000+00:00   \n",
       "4  2021-05-07 01:10:05.557000+00:00 2021-05-07 01:10:47.913000+00:00   \n",
       "5  2021-05-07 00:10:09.941000+00:00 2021-05-07 00:10:40.412000+00:00   \n",
       "6  2021-05-06 23:10:08.538000+00:00 2021-05-06 23:10:24.197000+00:00   \n",
       "7  2021-05-06 22:10:05.957000+00:00 2021-05-06 22:10:23.249000+00:00   \n",
       "8  2021-05-06 21:10:08.332000+00:00 2021-05-06 21:10:21.150000+00:00   \n",
       "9  2021-05-06 20:10:09.871000+00:00 2021-05-06 20:10:24.279000+00:00   \n",
       "10 2021-05-06 19:10:10.183000+00:00 2021-05-06 19:10:20.085000+00:00   \n",
       "11 2021-05-06 18:10:07.200000+00:00 2021-05-06 18:10:19.286000+00:00   \n",
       "12 2021-05-06 17:10:07.084000+00:00 2021-05-06 17:10:18.458000+00:00   \n",
       "13 2021-05-06 16:10:08.497000+00:00 2021-05-06 16:10:21.289000+00:00   \n",
       "14 2021-05-06 15:10:06.999000+00:00 2021-05-06 15:10:18.518000+00:00   \n",
       "15 2021-05-06 14:10:07.924000+00:00 2021-05-06 14:10:20.428000+00:00   \n",
       "16 2021-05-06 13:26:53.890000+00:00 2021-05-06 13:27:09.160000+00:00   \n",
       "17 2021-05-06 13:18:35.026000+00:00 2021-05-06 13:18:35.101000+00:00   \n",
       "18 2021-05-06 13:17:28.158000+00:00 2021-05-06 13:17:28.224000+00:00   \n",
       "\n",
       "    metrics.accuracy  metrics.recall  metrics.f1 tags.mlflow.source.type  \\\n",
       "0           0.750000        0.750000    0.722222                   LOCAL   \n",
       "1           0.882353        0.882353    0.869406                   LOCAL   \n",
       "2           0.781250        0.781250    0.755952                   LOCAL   \n",
       "3           0.833333        0.833333    0.856209                   LOCAL   \n",
       "4           0.892857        0.892857    0.880495                   LOCAL   \n",
       "5           0.980769        0.980769    0.971247                   LOCAL   \n",
       "6           0.000000        0.000000    0.000000                   LOCAL   \n",
       "7           0.000000        0.000000    0.000000                   LOCAL   \n",
       "8           0.000000        0.000000    0.000000                   LOCAL   \n",
       "9           0.000000        0.000000    0.000000                   LOCAL   \n",
       "10          0.000000        0.000000    0.000000                   LOCAL   \n",
       "11          0.000000        0.000000    0.000000                   LOCAL   \n",
       "12          0.000000        0.000000    0.000000                   LOCAL   \n",
       "13          0.000000        0.000000    0.000000                   LOCAL   \n",
       "14          0.000000        0.000000    0.000000                   LOCAL   \n",
       "15          0.000000        0.000000    0.000000                   LOCAL   \n",
       "16          0.000000        0.000000    0.000000                   LOCAL   \n",
       "17               NaN             NaN         NaN                   LOCAL   \n",
       "18               NaN             NaN         NaN                   LOCAL   \n",
       "\n",
       "   tags.mlflow.user                      tags.mlflow.log-model.history  \\\n",
       "0           airflow  [{\"run_id\": \"30fc2c107c9c4acb92d499ef81a5d203\"...   \n",
       "1           airflow  [{\"run_id\": \"44d0ef11caae4384bbc76f9425d0fdef\"...   \n",
       "2           airflow  [{\"run_id\": \"75a8af52df0a48df88a4aee71a6dbb1e\"...   \n",
       "3           airflow  [{\"run_id\": \"6a65fd92dbd84f9fa81d64e93370cbdc\"...   \n",
       "4           airflow  [{\"run_id\": \"98a7d9fe9c9c4d6b80892185cab8af90\"...   \n",
       "5           airflow  [{\"run_id\": \"f75705cb01384f4c8cbfb24e5c6ac2eb\"...   \n",
       "6           airflow  [{\"run_id\": \"f2258f6dee7e4b4ca4404102046ddc53\"...   \n",
       "7           airflow  [{\"run_id\": \"8b193c76dfa5454b85d34bb2538c9cc7\"...   \n",
       "8           airflow  [{\"run_id\": \"457712eddb26411baf4cdc7a1740c6f4\"...   \n",
       "9           airflow  [{\"run_id\": \"ccc38096a89a45a3bc952f031d52897b\"...   \n",
       "10          airflow  [{\"run_id\": \"576f27d21fe646f09f85dd39bf1a5d77\"...   \n",
       "11          airflow  [{\"run_id\": \"f99862d9229446c882bd593a8a02a0bb\"...   \n",
       "12          airflow  [{\"run_id\": \"2174a3b676c346208b5932220e2ac3c1\"...   \n",
       "13          airflow  [{\"run_id\": \"18c9f475c25c44c59a843e322f83ba6a\"...   \n",
       "14          airflow  [{\"run_id\": \"78b471c6a42447af98128489b0cc913b\"...   \n",
       "15          airflow  [{\"run_id\": \"62d96303dc094588b0336e131719a731\"...   \n",
       "16          airflow  [{\"run_id\": \"8d89da5f79ff45cf9e3c19c5b4a7a417\"...   \n",
       "17          airflow                                               None   \n",
       "18          airflow                                               None   \n",
       "\n",
       "   tags.mlflow.source.name  \n",
       "0   /usr/local/bin/airflow  \n",
       "1   /usr/local/bin/airflow  \n",
       "2   /usr/local/bin/airflow  \n",
       "3   /usr/local/bin/airflow  \n",
       "4   /usr/local/bin/airflow  \n",
       "5   /usr/local/bin/airflow  \n",
       "6   /usr/local/bin/airflow  \n",
       "7   /usr/local/bin/airflow  \n",
       "8   /usr/local/bin/airflow  \n",
       "9   /usr/local/bin/airflow  \n",
       "10  /usr/local/bin/airflow  \n",
       "11  /usr/local/bin/airflow  \n",
       "12  /usr/local/bin/airflow  \n",
       "13  /usr/local/bin/airflow  \n",
       "14  /usr/local/bin/airflow  \n",
       "15  /usr/local/bin/airflow  \n",
       "16  /usr/local/bin/airflow  \n",
       "17  /usr/local/bin/airflow  \n",
       "18  /usr/local/bin/airflow  "
      ]
     },
     "execution_count": 9,
     "metadata": {},
     "output_type": "execute_result"
    }
   ],
   "source": [
    "results = mlflow.search_runs([experiment_id])\n",
    "results"
   ]
  },
  {
   "cell_type": "markdown",
   "id": "27e99fb1",
   "metadata": {},
   "source": [
    "## Metrics over time"
   ]
  },
  {
   "cell_type": "code",
   "execution_count": 42,
   "id": "e6a6cb50",
   "metadata": {},
   "outputs": [
    {
     "data": {
      "application/vnd.plotly.v1+json": {
       "config": {
        "plotlyServerURL": "https://plot.ly"
       },
       "data": [
        {
         "name": "f1",
         "type": "scatter",
         "x": [
          "2021-05-07T05:10:55.030000+00:00",
          "2021-05-07T04:10:49.154000+00:00",
          "2021-05-07T03:10:49.425000+00:00",
          "2021-05-07T02:10:51.527000+00:00",
          "2021-05-07T01:10:47.913000+00:00",
          "2021-05-07T00:10:40.412000+00:00",
          "2021-05-06T23:10:24.197000+00:00",
          "2021-05-06T22:10:23.249000+00:00",
          "2021-05-06T21:10:21.150000+00:00",
          "2021-05-06T20:10:24.279000+00:00",
          "2021-05-06T19:10:20.085000+00:00",
          "2021-05-06T18:10:19.286000+00:00",
          "2021-05-06T17:10:18.458000+00:00",
          "2021-05-06T16:10:21.289000+00:00",
          "2021-05-06T15:10:18.518000+00:00",
          "2021-05-06T14:10:20.428000+00:00",
          "2021-05-06T13:27:09.160000+00:00",
          "2021-05-06T13:18:35.101000+00:00",
          "2021-05-06T13:17:28.224000+00:00"
         ],
         "y": [
          0.722222222222222,
          0.869406135660006,
          0.755952380952381,
          0.856209150326797,
          0.880494505494505,
          0.971247199402539,
          0,
          0,
          0,
          0,
          0,
          0,
          0,
          0,
          0,
          0,
          0,
          null,
          null
         ]
        },
        {
         "name": "accuracy",
         "type": "scatter",
         "x": [
          "2021-05-07T05:10:55.030000+00:00",
          "2021-05-07T04:10:49.154000+00:00",
          "2021-05-07T03:10:49.425000+00:00",
          "2021-05-07T02:10:51.527000+00:00",
          "2021-05-07T01:10:47.913000+00:00",
          "2021-05-07T00:10:40.412000+00:00",
          "2021-05-06T23:10:24.197000+00:00",
          "2021-05-06T22:10:23.249000+00:00",
          "2021-05-06T21:10:21.150000+00:00",
          "2021-05-06T20:10:24.279000+00:00",
          "2021-05-06T19:10:20.085000+00:00",
          "2021-05-06T18:10:19.286000+00:00",
          "2021-05-06T17:10:18.458000+00:00",
          "2021-05-06T16:10:21.289000+00:00",
          "2021-05-06T15:10:18.518000+00:00",
          "2021-05-06T14:10:20.428000+00:00",
          "2021-05-06T13:27:09.160000+00:00",
          "2021-05-06T13:18:35.101000+00:00",
          "2021-05-06T13:17:28.224000+00:00"
         ],
         "y": [
          0.75,
          0.882352941176471,
          0.78125,
          0.833333333333333,
          0.892857142857143,
          0.980769230769231,
          0,
          0,
          0,
          0,
          0,
          0,
          0,
          0,
          0,
          0,
          0,
          null,
          null
         ]
        },
        {
         "name": "recall",
         "type": "scatter",
         "x": [
          "2021-05-07T05:10:55.030000+00:00",
          "2021-05-07T04:10:49.154000+00:00",
          "2021-05-07T03:10:49.425000+00:00",
          "2021-05-07T02:10:51.527000+00:00",
          "2021-05-07T01:10:47.913000+00:00",
          "2021-05-07T00:10:40.412000+00:00",
          "2021-05-06T23:10:24.197000+00:00",
          "2021-05-06T22:10:23.249000+00:00",
          "2021-05-06T21:10:21.150000+00:00",
          "2021-05-06T20:10:24.279000+00:00",
          "2021-05-06T19:10:20.085000+00:00",
          "2021-05-06T18:10:19.286000+00:00",
          "2021-05-06T17:10:18.458000+00:00",
          "2021-05-06T16:10:21.289000+00:00",
          "2021-05-06T15:10:18.518000+00:00",
          "2021-05-06T14:10:20.428000+00:00",
          "2021-05-06T13:27:09.160000+00:00",
          "2021-05-06T13:18:35.101000+00:00",
          "2021-05-06T13:17:28.224000+00:00"
         ],
         "y": [
          0.75,
          0.882352941176471,
          0.78125,
          0.833333333333333,
          0.892857142857143,
          0.980769230769231,
          0,
          0,
          0,
          0,
          0,
          0,
          0,
          0,
          0,
          0,
          0,
          null,
          null
         ]
        }
       ],
       "layout": {
        "legend": {
         "tracegroupgap": 0
        },
        "template": {
         "data": {
          "bar": [
           {
            "error_x": {
             "color": "#2a3f5f"
            },
            "error_y": {
             "color": "#2a3f5f"
            },
            "marker": {
             "line": {
              "color": "#E5ECF6",
              "width": 0.5
             }
            },
            "type": "bar"
           }
          ],
          "barpolar": [
           {
            "marker": {
             "line": {
              "color": "#E5ECF6",
              "width": 0.5
             }
            },
            "type": "barpolar"
           }
          ],
          "carpet": [
           {
            "aaxis": {
             "endlinecolor": "#2a3f5f",
             "gridcolor": "white",
             "linecolor": "white",
             "minorgridcolor": "white",
             "startlinecolor": "#2a3f5f"
            },
            "baxis": {
             "endlinecolor": "#2a3f5f",
             "gridcolor": "white",
             "linecolor": "white",
             "minorgridcolor": "white",
             "startlinecolor": "#2a3f5f"
            },
            "type": "carpet"
           }
          ],
          "choropleth": [
           {
            "colorbar": {
             "outlinewidth": 0,
             "ticks": ""
            },
            "type": "choropleth"
           }
          ],
          "contour": [
           {
            "colorbar": {
             "outlinewidth": 0,
             "ticks": ""
            },
            "colorscale": [
             [
              0,
              "#0d0887"
             ],
             [
              0.1111111111111111,
              "#46039f"
             ],
             [
              0.2222222222222222,
              "#7201a8"
             ],
             [
              0.3333333333333333,
              "#9c179e"
             ],
             [
              0.4444444444444444,
              "#bd3786"
             ],
             [
              0.5555555555555556,
              "#d8576b"
             ],
             [
              0.6666666666666666,
              "#ed7953"
             ],
             [
              0.7777777777777778,
              "#fb9f3a"
             ],
             [
              0.8888888888888888,
              "#fdca26"
             ],
             [
              1,
              "#f0f921"
             ]
            ],
            "type": "contour"
           }
          ],
          "contourcarpet": [
           {
            "colorbar": {
             "outlinewidth": 0,
             "ticks": ""
            },
            "type": "contourcarpet"
           }
          ],
          "heatmap": [
           {
            "colorbar": {
             "outlinewidth": 0,
             "ticks": ""
            },
            "colorscale": [
             [
              0,
              "#0d0887"
             ],
             [
              0.1111111111111111,
              "#46039f"
             ],
             [
              0.2222222222222222,
              "#7201a8"
             ],
             [
              0.3333333333333333,
              "#9c179e"
             ],
             [
              0.4444444444444444,
              "#bd3786"
             ],
             [
              0.5555555555555556,
              "#d8576b"
             ],
             [
              0.6666666666666666,
              "#ed7953"
             ],
             [
              0.7777777777777778,
              "#fb9f3a"
             ],
             [
              0.8888888888888888,
              "#fdca26"
             ],
             [
              1,
              "#f0f921"
             ]
            ],
            "type": "heatmap"
           }
          ],
          "heatmapgl": [
           {
            "colorbar": {
             "outlinewidth": 0,
             "ticks": ""
            },
            "colorscale": [
             [
              0,
              "#0d0887"
             ],
             [
              0.1111111111111111,
              "#46039f"
             ],
             [
              0.2222222222222222,
              "#7201a8"
             ],
             [
              0.3333333333333333,
              "#9c179e"
             ],
             [
              0.4444444444444444,
              "#bd3786"
             ],
             [
              0.5555555555555556,
              "#d8576b"
             ],
             [
              0.6666666666666666,
              "#ed7953"
             ],
             [
              0.7777777777777778,
              "#fb9f3a"
             ],
             [
              0.8888888888888888,
              "#fdca26"
             ],
             [
              1,
              "#f0f921"
             ]
            ],
            "type": "heatmapgl"
           }
          ],
          "histogram": [
           {
            "marker": {
             "colorbar": {
              "outlinewidth": 0,
              "ticks": ""
             }
            },
            "type": "histogram"
           }
          ],
          "histogram2d": [
           {
            "colorbar": {
             "outlinewidth": 0,
             "ticks": ""
            },
            "colorscale": [
             [
              0,
              "#0d0887"
             ],
             [
              0.1111111111111111,
              "#46039f"
             ],
             [
              0.2222222222222222,
              "#7201a8"
             ],
             [
              0.3333333333333333,
              "#9c179e"
             ],
             [
              0.4444444444444444,
              "#bd3786"
             ],
             [
              0.5555555555555556,
              "#d8576b"
             ],
             [
              0.6666666666666666,
              "#ed7953"
             ],
             [
              0.7777777777777778,
              "#fb9f3a"
             ],
             [
              0.8888888888888888,
              "#fdca26"
             ],
             [
              1,
              "#f0f921"
             ]
            ],
            "type": "histogram2d"
           }
          ],
          "histogram2dcontour": [
           {
            "colorbar": {
             "outlinewidth": 0,
             "ticks": ""
            },
            "colorscale": [
             [
              0,
              "#0d0887"
             ],
             [
              0.1111111111111111,
              "#46039f"
             ],
             [
              0.2222222222222222,
              "#7201a8"
             ],
             [
              0.3333333333333333,
              "#9c179e"
             ],
             [
              0.4444444444444444,
              "#bd3786"
             ],
             [
              0.5555555555555556,
              "#d8576b"
             ],
             [
              0.6666666666666666,
              "#ed7953"
             ],
             [
              0.7777777777777778,
              "#fb9f3a"
             ],
             [
              0.8888888888888888,
              "#fdca26"
             ],
             [
              1,
              "#f0f921"
             ]
            ],
            "type": "histogram2dcontour"
           }
          ],
          "mesh3d": [
           {
            "colorbar": {
             "outlinewidth": 0,
             "ticks": ""
            },
            "type": "mesh3d"
           }
          ],
          "parcoords": [
           {
            "line": {
             "colorbar": {
              "outlinewidth": 0,
              "ticks": ""
             }
            },
            "type": "parcoords"
           }
          ],
          "pie": [
           {
            "automargin": true,
            "type": "pie"
           }
          ],
          "scatter": [
           {
            "marker": {
             "colorbar": {
              "outlinewidth": 0,
              "ticks": ""
             }
            },
            "type": "scatter"
           }
          ],
          "scatter3d": [
           {
            "line": {
             "colorbar": {
              "outlinewidth": 0,
              "ticks": ""
             }
            },
            "marker": {
             "colorbar": {
              "outlinewidth": 0,
              "ticks": ""
             }
            },
            "type": "scatter3d"
           }
          ],
          "scattercarpet": [
           {
            "marker": {
             "colorbar": {
              "outlinewidth": 0,
              "ticks": ""
             }
            },
            "type": "scattercarpet"
           }
          ],
          "scattergeo": [
           {
            "marker": {
             "colorbar": {
              "outlinewidth": 0,
              "ticks": ""
             }
            },
            "type": "scattergeo"
           }
          ],
          "scattergl": [
           {
            "marker": {
             "colorbar": {
              "outlinewidth": 0,
              "ticks": ""
             }
            },
            "type": "scattergl"
           }
          ],
          "scattermapbox": [
           {
            "marker": {
             "colorbar": {
              "outlinewidth": 0,
              "ticks": ""
             }
            },
            "type": "scattermapbox"
           }
          ],
          "scatterpolar": [
           {
            "marker": {
             "colorbar": {
              "outlinewidth": 0,
              "ticks": ""
             }
            },
            "type": "scatterpolar"
           }
          ],
          "scatterpolargl": [
           {
            "marker": {
             "colorbar": {
              "outlinewidth": 0,
              "ticks": ""
             }
            },
            "type": "scatterpolargl"
           }
          ],
          "scatterternary": [
           {
            "marker": {
             "colorbar": {
              "outlinewidth": 0,
              "ticks": ""
             }
            },
            "type": "scatterternary"
           }
          ],
          "surface": [
           {
            "colorbar": {
             "outlinewidth": 0,
             "ticks": ""
            },
            "colorscale": [
             [
              0,
              "#0d0887"
             ],
             [
              0.1111111111111111,
              "#46039f"
             ],
             [
              0.2222222222222222,
              "#7201a8"
             ],
             [
              0.3333333333333333,
              "#9c179e"
             ],
             [
              0.4444444444444444,
              "#bd3786"
             ],
             [
              0.5555555555555556,
              "#d8576b"
             ],
             [
              0.6666666666666666,
              "#ed7953"
             ],
             [
              0.7777777777777778,
              "#fb9f3a"
             ],
             [
              0.8888888888888888,
              "#fdca26"
             ],
             [
              1,
              "#f0f921"
             ]
            ],
            "type": "surface"
           }
          ],
          "table": [
           {
            "cells": {
             "fill": {
              "color": "#EBF0F8"
             },
             "line": {
              "color": "white"
             }
            },
            "header": {
             "fill": {
              "color": "#C8D4E3"
             },
             "line": {
              "color": "white"
             }
            },
            "type": "table"
           }
          ]
         },
         "layout": {
          "annotationdefaults": {
           "arrowcolor": "#2a3f5f",
           "arrowhead": 0,
           "arrowwidth": 1
          },
          "autotypenumbers": "strict",
          "coloraxis": {
           "colorbar": {
            "outlinewidth": 0,
            "ticks": ""
           }
          },
          "colorscale": {
           "diverging": [
            [
             0,
             "#8e0152"
            ],
            [
             0.1,
             "#c51b7d"
            ],
            [
             0.2,
             "#de77ae"
            ],
            [
             0.3,
             "#f1b6da"
            ],
            [
             0.4,
             "#fde0ef"
            ],
            [
             0.5,
             "#f7f7f7"
            ],
            [
             0.6,
             "#e6f5d0"
            ],
            [
             0.7,
             "#b8e186"
            ],
            [
             0.8,
             "#7fbc41"
            ],
            [
             0.9,
             "#4d9221"
            ],
            [
             1,
             "#276419"
            ]
           ],
           "sequential": [
            [
             0,
             "#0d0887"
            ],
            [
             0.1111111111111111,
             "#46039f"
            ],
            [
             0.2222222222222222,
             "#7201a8"
            ],
            [
             0.3333333333333333,
             "#9c179e"
            ],
            [
             0.4444444444444444,
             "#bd3786"
            ],
            [
             0.5555555555555556,
             "#d8576b"
            ],
            [
             0.6666666666666666,
             "#ed7953"
            ],
            [
             0.7777777777777778,
             "#fb9f3a"
            ],
            [
             0.8888888888888888,
             "#fdca26"
            ],
            [
             1,
             "#f0f921"
            ]
           ],
           "sequentialminus": [
            [
             0,
             "#0d0887"
            ],
            [
             0.1111111111111111,
             "#46039f"
            ],
            [
             0.2222222222222222,
             "#7201a8"
            ],
            [
             0.3333333333333333,
             "#9c179e"
            ],
            [
             0.4444444444444444,
             "#bd3786"
            ],
            [
             0.5555555555555556,
             "#d8576b"
            ],
            [
             0.6666666666666666,
             "#ed7953"
            ],
            [
             0.7777777777777778,
             "#fb9f3a"
            ],
            [
             0.8888888888888888,
             "#fdca26"
            ],
            [
             1,
             "#f0f921"
            ]
           ]
          },
          "colorway": [
           "#636efa",
           "#EF553B",
           "#00cc96",
           "#ab63fa",
           "#FFA15A",
           "#19d3f3",
           "#FF6692",
           "#B6E880",
           "#FF97FF",
           "#FECB52"
          ],
          "font": {
           "color": "#2a3f5f"
          },
          "geo": {
           "bgcolor": "white",
           "lakecolor": "white",
           "landcolor": "#E5ECF6",
           "showlakes": true,
           "showland": true,
           "subunitcolor": "white"
          },
          "hoverlabel": {
           "align": "left"
          },
          "hovermode": "closest",
          "mapbox": {
           "style": "light"
          },
          "paper_bgcolor": "white",
          "plot_bgcolor": "#E5ECF6",
          "polar": {
           "angularaxis": {
            "gridcolor": "white",
            "linecolor": "white",
            "ticks": ""
           },
           "bgcolor": "#E5ECF6",
           "radialaxis": {
            "gridcolor": "white",
            "linecolor": "white",
            "ticks": ""
           }
          },
          "scene": {
           "xaxis": {
            "backgroundcolor": "#E5ECF6",
            "gridcolor": "white",
            "gridwidth": 2,
            "linecolor": "white",
            "showbackground": true,
            "ticks": "",
            "zerolinecolor": "white"
           },
           "yaxis": {
            "backgroundcolor": "#E5ECF6",
            "gridcolor": "white",
            "gridwidth": 2,
            "linecolor": "white",
            "showbackground": true,
            "ticks": "",
            "zerolinecolor": "white"
           },
           "zaxis": {
            "backgroundcolor": "#E5ECF6",
            "gridcolor": "white",
            "gridwidth": 2,
            "linecolor": "white",
            "showbackground": true,
            "ticks": "",
            "zerolinecolor": "white"
           }
          },
          "shapedefaults": {
           "line": {
            "color": "#2a3f5f"
           }
          },
          "ternary": {
           "aaxis": {
            "gridcolor": "white",
            "linecolor": "white",
            "ticks": ""
           },
           "baxis": {
            "gridcolor": "white",
            "linecolor": "white",
            "ticks": ""
           },
           "bgcolor": "#E5ECF6",
           "caxis": {
            "gridcolor": "white",
            "linecolor": "white",
            "ticks": ""
           }
          },
          "title": {
           "x": 0.05
          },
          "xaxis": {
           "automargin": true,
           "gridcolor": "white",
           "linecolor": "white",
           "ticks": "",
           "title": {
            "standoff": 15
           },
           "zerolinecolor": "white",
           "zerolinewidth": 2
          },
          "yaxis": {
           "automargin": true,
           "gridcolor": "white",
           "linecolor": "white",
           "ticks": "",
           "title": {
            "standoff": 15
           },
           "zerolinecolor": "white",
           "zerolinewidth": 2
          }
         }
        },
        "title": {
         "text": "Metrics over time"
        },
        "xaxis": {
         "anchor": "y",
         "domain": [
          0,
          1
         ]
        },
        "yaxis": {
         "anchor": "x",
         "domain": [
          0,
          1
         ]
        }
       }
      },
      "text/html": [
       "<div>                            <div id=\"7a3e559e-09a2-4fbd-be7c-a995efa8a5cf\" class=\"plotly-graph-div\" style=\"height:525px; width:100%;\"></div>            <script type=\"text/javascript\">                require([\"plotly\"], function(Plotly) {                    window.PLOTLYENV=window.PLOTLYENV || {};                                    if (document.getElementById(\"7a3e559e-09a2-4fbd-be7c-a995efa8a5cf\")) {                    Plotly.newPlot(                        \"7a3e559e-09a2-4fbd-be7c-a995efa8a5cf\",                        [{\"name\": \"f1\", \"type\": \"scatter\", \"x\": [\"2021-05-07T05:10:55.030000+00:00\", \"2021-05-07T04:10:49.154000+00:00\", \"2021-05-07T03:10:49.425000+00:00\", \"2021-05-07T02:10:51.527000+00:00\", \"2021-05-07T01:10:47.913000+00:00\", \"2021-05-07T00:10:40.412000+00:00\", \"2021-05-06T23:10:24.197000+00:00\", \"2021-05-06T22:10:23.249000+00:00\", \"2021-05-06T21:10:21.150000+00:00\", \"2021-05-06T20:10:24.279000+00:00\", \"2021-05-06T19:10:20.085000+00:00\", \"2021-05-06T18:10:19.286000+00:00\", \"2021-05-06T17:10:18.458000+00:00\", \"2021-05-06T16:10:21.289000+00:00\", \"2021-05-06T15:10:18.518000+00:00\", \"2021-05-06T14:10:20.428000+00:00\", \"2021-05-06T13:27:09.160000+00:00\", \"2021-05-06T13:18:35.101000+00:00\", \"2021-05-06T13:17:28.224000+00:00\"], \"y\": [0.722222222222222, 0.869406135660006, 0.755952380952381, 0.856209150326797, 0.880494505494505, 0.971247199402539, 0.0, 0.0, 0.0, 0.0, 0.0, 0.0, 0.0, 0.0, 0.0, 0.0, 0.0, null, null]}, {\"name\": \"accuracy\", \"type\": \"scatter\", \"x\": [\"2021-05-07T05:10:55.030000+00:00\", \"2021-05-07T04:10:49.154000+00:00\", \"2021-05-07T03:10:49.425000+00:00\", \"2021-05-07T02:10:51.527000+00:00\", \"2021-05-07T01:10:47.913000+00:00\", \"2021-05-07T00:10:40.412000+00:00\", \"2021-05-06T23:10:24.197000+00:00\", \"2021-05-06T22:10:23.249000+00:00\", \"2021-05-06T21:10:21.150000+00:00\", \"2021-05-06T20:10:24.279000+00:00\", \"2021-05-06T19:10:20.085000+00:00\", \"2021-05-06T18:10:19.286000+00:00\", \"2021-05-06T17:10:18.458000+00:00\", \"2021-05-06T16:10:21.289000+00:00\", \"2021-05-06T15:10:18.518000+00:00\", \"2021-05-06T14:10:20.428000+00:00\", \"2021-05-06T13:27:09.160000+00:00\", \"2021-05-06T13:18:35.101000+00:00\", \"2021-05-06T13:17:28.224000+00:00\"], \"y\": [0.75, 0.882352941176471, 0.78125, 0.833333333333333, 0.892857142857143, 0.980769230769231, 0.0, 0.0, 0.0, 0.0, 0.0, 0.0, 0.0, 0.0, 0.0, 0.0, 0.0, null, null]}, {\"name\": \"recall\", \"type\": \"scatter\", \"x\": [\"2021-05-07T05:10:55.030000+00:00\", \"2021-05-07T04:10:49.154000+00:00\", \"2021-05-07T03:10:49.425000+00:00\", \"2021-05-07T02:10:51.527000+00:00\", \"2021-05-07T01:10:47.913000+00:00\", \"2021-05-07T00:10:40.412000+00:00\", \"2021-05-06T23:10:24.197000+00:00\", \"2021-05-06T22:10:23.249000+00:00\", \"2021-05-06T21:10:21.150000+00:00\", \"2021-05-06T20:10:24.279000+00:00\", \"2021-05-06T19:10:20.085000+00:00\", \"2021-05-06T18:10:19.286000+00:00\", \"2021-05-06T17:10:18.458000+00:00\", \"2021-05-06T16:10:21.289000+00:00\", \"2021-05-06T15:10:18.518000+00:00\", \"2021-05-06T14:10:20.428000+00:00\", \"2021-05-06T13:27:09.160000+00:00\", \"2021-05-06T13:18:35.101000+00:00\", \"2021-05-06T13:17:28.224000+00:00\"], \"y\": [0.75, 0.882352941176471, 0.78125, 0.833333333333333, 0.892857142857143, 0.980769230769231, 0.0, 0.0, 0.0, 0.0, 0.0, 0.0, 0.0, 0.0, 0.0, 0.0, 0.0, null, null]}],                        {\"legend\": {\"tracegroupgap\": 0}, \"template\": {\"data\": {\"bar\": [{\"error_x\": {\"color\": \"#2a3f5f\"}, \"error_y\": {\"color\": \"#2a3f5f\"}, \"marker\": {\"line\": {\"color\": \"#E5ECF6\", \"width\": 0.5}}, \"type\": \"bar\"}], \"barpolar\": [{\"marker\": {\"line\": {\"color\": \"#E5ECF6\", \"width\": 0.5}}, \"type\": \"barpolar\"}], \"carpet\": [{\"aaxis\": {\"endlinecolor\": \"#2a3f5f\", \"gridcolor\": \"white\", \"linecolor\": \"white\", \"minorgridcolor\": \"white\", \"startlinecolor\": \"#2a3f5f\"}, \"baxis\": {\"endlinecolor\": \"#2a3f5f\", \"gridcolor\": \"white\", \"linecolor\": \"white\", \"minorgridcolor\": \"white\", \"startlinecolor\": \"#2a3f5f\"}, \"type\": \"carpet\"}], \"choropleth\": [{\"colorbar\": {\"outlinewidth\": 0, \"ticks\": \"\"}, \"type\": \"choropleth\"}], \"contour\": [{\"colorbar\": {\"outlinewidth\": 0, \"ticks\": \"\"}, \"colorscale\": [[0.0, \"#0d0887\"], [0.1111111111111111, \"#46039f\"], [0.2222222222222222, \"#7201a8\"], [0.3333333333333333, \"#9c179e\"], [0.4444444444444444, \"#bd3786\"], [0.5555555555555556, \"#d8576b\"], [0.6666666666666666, \"#ed7953\"], [0.7777777777777778, \"#fb9f3a\"], [0.8888888888888888, \"#fdca26\"], [1.0, \"#f0f921\"]], \"type\": \"contour\"}], \"contourcarpet\": [{\"colorbar\": {\"outlinewidth\": 0, \"ticks\": \"\"}, \"type\": \"contourcarpet\"}], \"heatmap\": [{\"colorbar\": {\"outlinewidth\": 0, \"ticks\": \"\"}, \"colorscale\": [[0.0, \"#0d0887\"], [0.1111111111111111, \"#46039f\"], [0.2222222222222222, \"#7201a8\"], [0.3333333333333333, \"#9c179e\"], [0.4444444444444444, \"#bd3786\"], [0.5555555555555556, \"#d8576b\"], [0.6666666666666666, \"#ed7953\"], [0.7777777777777778, \"#fb9f3a\"], [0.8888888888888888, \"#fdca26\"], [1.0, \"#f0f921\"]], \"type\": \"heatmap\"}], \"heatmapgl\": [{\"colorbar\": {\"outlinewidth\": 0, \"ticks\": \"\"}, \"colorscale\": [[0.0, \"#0d0887\"], [0.1111111111111111, \"#46039f\"], [0.2222222222222222, \"#7201a8\"], [0.3333333333333333, \"#9c179e\"], [0.4444444444444444, \"#bd3786\"], [0.5555555555555556, \"#d8576b\"], [0.6666666666666666, \"#ed7953\"], [0.7777777777777778, \"#fb9f3a\"], [0.8888888888888888, \"#fdca26\"], [1.0, \"#f0f921\"]], \"type\": \"heatmapgl\"}], \"histogram\": [{\"marker\": {\"colorbar\": {\"outlinewidth\": 0, \"ticks\": \"\"}}, \"type\": \"histogram\"}], \"histogram2d\": [{\"colorbar\": {\"outlinewidth\": 0, \"ticks\": \"\"}, \"colorscale\": [[0.0, \"#0d0887\"], [0.1111111111111111, \"#46039f\"], [0.2222222222222222, \"#7201a8\"], [0.3333333333333333, \"#9c179e\"], [0.4444444444444444, \"#bd3786\"], [0.5555555555555556, \"#d8576b\"], [0.6666666666666666, \"#ed7953\"], [0.7777777777777778, \"#fb9f3a\"], [0.8888888888888888, \"#fdca26\"], [1.0, \"#f0f921\"]], \"type\": \"histogram2d\"}], \"histogram2dcontour\": [{\"colorbar\": {\"outlinewidth\": 0, \"ticks\": \"\"}, \"colorscale\": [[0.0, \"#0d0887\"], [0.1111111111111111, \"#46039f\"], [0.2222222222222222, \"#7201a8\"], [0.3333333333333333, \"#9c179e\"], [0.4444444444444444, \"#bd3786\"], [0.5555555555555556, \"#d8576b\"], [0.6666666666666666, \"#ed7953\"], [0.7777777777777778, \"#fb9f3a\"], [0.8888888888888888, \"#fdca26\"], [1.0, \"#f0f921\"]], \"type\": \"histogram2dcontour\"}], \"mesh3d\": [{\"colorbar\": {\"outlinewidth\": 0, \"ticks\": \"\"}, \"type\": \"mesh3d\"}], \"parcoords\": [{\"line\": {\"colorbar\": {\"outlinewidth\": 0, \"ticks\": \"\"}}, \"type\": \"parcoords\"}], \"pie\": [{\"automargin\": true, \"type\": \"pie\"}], \"scatter\": [{\"marker\": {\"colorbar\": {\"outlinewidth\": 0, \"ticks\": \"\"}}, \"type\": \"scatter\"}], \"scatter3d\": [{\"line\": {\"colorbar\": {\"outlinewidth\": 0, \"ticks\": \"\"}}, \"marker\": {\"colorbar\": {\"outlinewidth\": 0, \"ticks\": \"\"}}, \"type\": \"scatter3d\"}], \"scattercarpet\": [{\"marker\": {\"colorbar\": {\"outlinewidth\": 0, \"ticks\": \"\"}}, \"type\": \"scattercarpet\"}], \"scattergeo\": [{\"marker\": {\"colorbar\": {\"outlinewidth\": 0, \"ticks\": \"\"}}, \"type\": \"scattergeo\"}], \"scattergl\": [{\"marker\": {\"colorbar\": {\"outlinewidth\": 0, \"ticks\": \"\"}}, \"type\": \"scattergl\"}], \"scattermapbox\": [{\"marker\": {\"colorbar\": {\"outlinewidth\": 0, \"ticks\": \"\"}}, \"type\": \"scattermapbox\"}], \"scatterpolar\": [{\"marker\": {\"colorbar\": {\"outlinewidth\": 0, \"ticks\": \"\"}}, \"type\": \"scatterpolar\"}], \"scatterpolargl\": [{\"marker\": {\"colorbar\": {\"outlinewidth\": 0, \"ticks\": \"\"}}, \"type\": \"scatterpolargl\"}], \"scatterternary\": [{\"marker\": {\"colorbar\": {\"outlinewidth\": 0, \"ticks\": \"\"}}, \"type\": \"scatterternary\"}], \"surface\": [{\"colorbar\": {\"outlinewidth\": 0, \"ticks\": \"\"}, \"colorscale\": [[0.0, \"#0d0887\"], [0.1111111111111111, \"#46039f\"], [0.2222222222222222, \"#7201a8\"], [0.3333333333333333, \"#9c179e\"], [0.4444444444444444, \"#bd3786\"], [0.5555555555555556, \"#d8576b\"], [0.6666666666666666, \"#ed7953\"], [0.7777777777777778, \"#fb9f3a\"], [0.8888888888888888, \"#fdca26\"], [1.0, \"#f0f921\"]], \"type\": \"surface\"}], \"table\": [{\"cells\": {\"fill\": {\"color\": \"#EBF0F8\"}, \"line\": {\"color\": \"white\"}}, \"header\": {\"fill\": {\"color\": \"#C8D4E3\"}, \"line\": {\"color\": \"white\"}}, \"type\": \"table\"}]}, \"layout\": {\"annotationdefaults\": {\"arrowcolor\": \"#2a3f5f\", \"arrowhead\": 0, \"arrowwidth\": 1}, \"autotypenumbers\": \"strict\", \"coloraxis\": {\"colorbar\": {\"outlinewidth\": 0, \"ticks\": \"\"}}, \"colorscale\": {\"diverging\": [[0, \"#8e0152\"], [0.1, \"#c51b7d\"], [0.2, \"#de77ae\"], [0.3, \"#f1b6da\"], [0.4, \"#fde0ef\"], [0.5, \"#f7f7f7\"], [0.6, \"#e6f5d0\"], [0.7, \"#b8e186\"], [0.8, \"#7fbc41\"], [0.9, \"#4d9221\"], [1, \"#276419\"]], \"sequential\": [[0.0, \"#0d0887\"], [0.1111111111111111, \"#46039f\"], [0.2222222222222222, \"#7201a8\"], [0.3333333333333333, \"#9c179e\"], [0.4444444444444444, \"#bd3786\"], [0.5555555555555556, \"#d8576b\"], [0.6666666666666666, \"#ed7953\"], [0.7777777777777778, \"#fb9f3a\"], [0.8888888888888888, \"#fdca26\"], [1.0, \"#f0f921\"]], \"sequentialminus\": [[0.0, \"#0d0887\"], [0.1111111111111111, \"#46039f\"], [0.2222222222222222, \"#7201a8\"], [0.3333333333333333, \"#9c179e\"], [0.4444444444444444, \"#bd3786\"], [0.5555555555555556, \"#d8576b\"], [0.6666666666666666, \"#ed7953\"], [0.7777777777777778, \"#fb9f3a\"], [0.8888888888888888, \"#fdca26\"], [1.0, \"#f0f921\"]]}, \"colorway\": [\"#636efa\", \"#EF553B\", \"#00cc96\", \"#ab63fa\", \"#FFA15A\", \"#19d3f3\", \"#FF6692\", \"#B6E880\", \"#FF97FF\", \"#FECB52\"], \"font\": {\"color\": \"#2a3f5f\"}, \"geo\": {\"bgcolor\": \"white\", \"lakecolor\": \"white\", \"landcolor\": \"#E5ECF6\", \"showlakes\": true, \"showland\": true, \"subunitcolor\": \"white\"}, \"hoverlabel\": {\"align\": \"left\"}, \"hovermode\": \"closest\", \"mapbox\": {\"style\": \"light\"}, \"paper_bgcolor\": \"white\", \"plot_bgcolor\": \"#E5ECF6\", \"polar\": {\"angularaxis\": {\"gridcolor\": \"white\", \"linecolor\": \"white\", \"ticks\": \"\"}, \"bgcolor\": \"#E5ECF6\", \"radialaxis\": {\"gridcolor\": \"white\", \"linecolor\": \"white\", \"ticks\": \"\"}}, \"scene\": {\"xaxis\": {\"backgroundcolor\": \"#E5ECF6\", \"gridcolor\": \"white\", \"gridwidth\": 2, \"linecolor\": \"white\", \"showbackground\": true, \"ticks\": \"\", \"zerolinecolor\": \"white\"}, \"yaxis\": {\"backgroundcolor\": \"#E5ECF6\", \"gridcolor\": \"white\", \"gridwidth\": 2, \"linecolor\": \"white\", \"showbackground\": true, \"ticks\": \"\", \"zerolinecolor\": \"white\"}, \"zaxis\": {\"backgroundcolor\": \"#E5ECF6\", \"gridcolor\": \"white\", \"gridwidth\": 2, \"linecolor\": \"white\", \"showbackground\": true, \"ticks\": \"\", \"zerolinecolor\": \"white\"}}, \"shapedefaults\": {\"line\": {\"color\": \"#2a3f5f\"}}, \"ternary\": {\"aaxis\": {\"gridcolor\": \"white\", \"linecolor\": \"white\", \"ticks\": \"\"}, \"baxis\": {\"gridcolor\": \"white\", \"linecolor\": \"white\", \"ticks\": \"\"}, \"bgcolor\": \"#E5ECF6\", \"caxis\": {\"gridcolor\": \"white\", \"linecolor\": \"white\", \"ticks\": \"\"}}, \"title\": {\"x\": 0.05}, \"xaxis\": {\"automargin\": true, \"gridcolor\": \"white\", \"linecolor\": \"white\", \"ticks\": \"\", \"title\": {\"standoff\": 15}, \"zerolinecolor\": \"white\", \"zerolinewidth\": 2}, \"yaxis\": {\"automargin\": true, \"gridcolor\": \"white\", \"linecolor\": \"white\", \"ticks\": \"\", \"title\": {\"standoff\": 15}, \"zerolinecolor\": \"white\", \"zerolinewidth\": 2}}}, \"title\": {\"text\": \"Metrics over time\"}, \"xaxis\": {\"anchor\": \"y\", \"domain\": [0.0, 1.0]}, \"yaxis\": {\"anchor\": \"x\", \"domain\": [0.0, 1.0]}},                        {\"responsive\": true}                    ).then(function(){\n",
       "                            \n",
       "var gd = document.getElementById('7a3e559e-09a2-4fbd-be7c-a995efa8a5cf');\n",
       "var x = new MutationObserver(function (mutations, observer) {{\n",
       "        var display = window.getComputedStyle(gd).display;\n",
       "        if (!display || display === 'none') {{\n",
       "            console.log([gd, 'removed!']);\n",
       "            Plotly.purge(gd);\n",
       "            observer.disconnect();\n",
       "        }}\n",
       "}});\n",
       "\n",
       "// Listen for the removal of the full notebook cells\n",
       "var notebookContainer = gd.closest('#notebook-container');\n",
       "if (notebookContainer) {{\n",
       "    x.observe(notebookContainer, {childList: true});\n",
       "}}\n",
       "\n",
       "// Listen for the clearing of the current output cell\n",
       "var outputEl = gd.closest('.output');\n",
       "if (outputEl) {{\n",
       "    x.observe(outputEl, {childList: true});\n",
       "}}\n",
       "\n",
       "                        })                };                });            </script>        </div>"
      ]
     },
     "metadata": {},
     "output_type": "display_data"
    }
   ],
   "source": [
    "fig = px.scatter(title=\"Metrics over time\")\n",
    "fig.add_scatter(x=results[\"end_time\"], y=results[\"metrics.f1\"],name=\"f1\")\n",
    "fig.add_scatter(x=results[\"end_time\"], y=results[\"metrics.accuracy\"],name=\"accuracy\")\n",
    "fig.add_scatter(x=results[\"end_time\"], y=results[\"metrics.recall\"],name=\"recall\")\n",
    "fig.show()"
   ]
  },
  {
   "cell_type": "markdown",
   "id": "e1ec1a7d",
   "metadata": {},
   "source": [
    "## Metrics over versions"
   ]
  },
  {
   "cell_type": "code",
   "execution_count": 53,
   "id": "16217424",
   "metadata": {},
   "outputs": [],
   "source": [
    "results_odered = results.sort_values(\"end_time\").reset_index()"
   ]
  },
  {
   "cell_type": "code",
   "execution_count": 54,
   "id": "39cb87a8",
   "metadata": {},
   "outputs": [
    {
     "data": {
      "application/vnd.plotly.v1+json": {
       "config": {
        "plotlyServerURL": "https://plot.ly"
       },
       "data": [
        {
         "name": "f1",
         "type": "scatter",
         "x": [
          0,
          1,
          2,
          3,
          4,
          5,
          6,
          7,
          8,
          9,
          10,
          11,
          12,
          13,
          14,
          15,
          16,
          17,
          18
         ],
         "y": [
          null,
          null,
          0,
          0,
          0,
          0,
          0,
          0,
          0,
          0,
          0,
          0,
          0,
          0.971247199402539,
          0.880494505494505,
          0.856209150326797,
          0.755952380952381,
          0.869406135660006,
          0.722222222222222
         ]
        },
        {
         "name": "accuracy",
         "type": "scatter",
         "x": [
          0,
          1,
          2,
          3,
          4,
          5,
          6,
          7,
          8,
          9,
          10,
          11,
          12,
          13,
          14,
          15,
          16,
          17,
          18
         ],
         "y": [
          null,
          null,
          0,
          0,
          0,
          0,
          0,
          0,
          0,
          0,
          0,
          0,
          0,
          0.980769230769231,
          0.892857142857143,
          0.833333333333333,
          0.78125,
          0.882352941176471,
          0.75
         ]
        },
        {
         "name": "recall",
         "type": "scatter",
         "x": [
          0,
          1,
          2,
          3,
          4,
          5,
          6,
          7,
          8,
          9,
          10,
          11,
          12,
          13,
          14,
          15,
          16,
          17,
          18
         ],
         "y": [
          null,
          null,
          0,
          0,
          0,
          0,
          0,
          0,
          0,
          0,
          0,
          0,
          0,
          0.980769230769231,
          0.892857142857143,
          0.833333333333333,
          0.78125,
          0.882352941176471,
          0.75
         ]
        }
       ],
       "layout": {
        "legend": {
         "tracegroupgap": 0
        },
        "template": {
         "data": {
          "bar": [
           {
            "error_x": {
             "color": "#2a3f5f"
            },
            "error_y": {
             "color": "#2a3f5f"
            },
            "marker": {
             "line": {
              "color": "#E5ECF6",
              "width": 0.5
             }
            },
            "type": "bar"
           }
          ],
          "barpolar": [
           {
            "marker": {
             "line": {
              "color": "#E5ECF6",
              "width": 0.5
             }
            },
            "type": "barpolar"
           }
          ],
          "carpet": [
           {
            "aaxis": {
             "endlinecolor": "#2a3f5f",
             "gridcolor": "white",
             "linecolor": "white",
             "minorgridcolor": "white",
             "startlinecolor": "#2a3f5f"
            },
            "baxis": {
             "endlinecolor": "#2a3f5f",
             "gridcolor": "white",
             "linecolor": "white",
             "minorgridcolor": "white",
             "startlinecolor": "#2a3f5f"
            },
            "type": "carpet"
           }
          ],
          "choropleth": [
           {
            "colorbar": {
             "outlinewidth": 0,
             "ticks": ""
            },
            "type": "choropleth"
           }
          ],
          "contour": [
           {
            "colorbar": {
             "outlinewidth": 0,
             "ticks": ""
            },
            "colorscale": [
             [
              0,
              "#0d0887"
             ],
             [
              0.1111111111111111,
              "#46039f"
             ],
             [
              0.2222222222222222,
              "#7201a8"
             ],
             [
              0.3333333333333333,
              "#9c179e"
             ],
             [
              0.4444444444444444,
              "#bd3786"
             ],
             [
              0.5555555555555556,
              "#d8576b"
             ],
             [
              0.6666666666666666,
              "#ed7953"
             ],
             [
              0.7777777777777778,
              "#fb9f3a"
             ],
             [
              0.8888888888888888,
              "#fdca26"
             ],
             [
              1,
              "#f0f921"
             ]
            ],
            "type": "contour"
           }
          ],
          "contourcarpet": [
           {
            "colorbar": {
             "outlinewidth": 0,
             "ticks": ""
            },
            "type": "contourcarpet"
           }
          ],
          "heatmap": [
           {
            "colorbar": {
             "outlinewidth": 0,
             "ticks": ""
            },
            "colorscale": [
             [
              0,
              "#0d0887"
             ],
             [
              0.1111111111111111,
              "#46039f"
             ],
             [
              0.2222222222222222,
              "#7201a8"
             ],
             [
              0.3333333333333333,
              "#9c179e"
             ],
             [
              0.4444444444444444,
              "#bd3786"
             ],
             [
              0.5555555555555556,
              "#d8576b"
             ],
             [
              0.6666666666666666,
              "#ed7953"
             ],
             [
              0.7777777777777778,
              "#fb9f3a"
             ],
             [
              0.8888888888888888,
              "#fdca26"
             ],
             [
              1,
              "#f0f921"
             ]
            ],
            "type": "heatmap"
           }
          ],
          "heatmapgl": [
           {
            "colorbar": {
             "outlinewidth": 0,
             "ticks": ""
            },
            "colorscale": [
             [
              0,
              "#0d0887"
             ],
             [
              0.1111111111111111,
              "#46039f"
             ],
             [
              0.2222222222222222,
              "#7201a8"
             ],
             [
              0.3333333333333333,
              "#9c179e"
             ],
             [
              0.4444444444444444,
              "#bd3786"
             ],
             [
              0.5555555555555556,
              "#d8576b"
             ],
             [
              0.6666666666666666,
              "#ed7953"
             ],
             [
              0.7777777777777778,
              "#fb9f3a"
             ],
             [
              0.8888888888888888,
              "#fdca26"
             ],
             [
              1,
              "#f0f921"
             ]
            ],
            "type": "heatmapgl"
           }
          ],
          "histogram": [
           {
            "marker": {
             "colorbar": {
              "outlinewidth": 0,
              "ticks": ""
             }
            },
            "type": "histogram"
           }
          ],
          "histogram2d": [
           {
            "colorbar": {
             "outlinewidth": 0,
             "ticks": ""
            },
            "colorscale": [
             [
              0,
              "#0d0887"
             ],
             [
              0.1111111111111111,
              "#46039f"
             ],
             [
              0.2222222222222222,
              "#7201a8"
             ],
             [
              0.3333333333333333,
              "#9c179e"
             ],
             [
              0.4444444444444444,
              "#bd3786"
             ],
             [
              0.5555555555555556,
              "#d8576b"
             ],
             [
              0.6666666666666666,
              "#ed7953"
             ],
             [
              0.7777777777777778,
              "#fb9f3a"
             ],
             [
              0.8888888888888888,
              "#fdca26"
             ],
             [
              1,
              "#f0f921"
             ]
            ],
            "type": "histogram2d"
           }
          ],
          "histogram2dcontour": [
           {
            "colorbar": {
             "outlinewidth": 0,
             "ticks": ""
            },
            "colorscale": [
             [
              0,
              "#0d0887"
             ],
             [
              0.1111111111111111,
              "#46039f"
             ],
             [
              0.2222222222222222,
              "#7201a8"
             ],
             [
              0.3333333333333333,
              "#9c179e"
             ],
             [
              0.4444444444444444,
              "#bd3786"
             ],
             [
              0.5555555555555556,
              "#d8576b"
             ],
             [
              0.6666666666666666,
              "#ed7953"
             ],
             [
              0.7777777777777778,
              "#fb9f3a"
             ],
             [
              0.8888888888888888,
              "#fdca26"
             ],
             [
              1,
              "#f0f921"
             ]
            ],
            "type": "histogram2dcontour"
           }
          ],
          "mesh3d": [
           {
            "colorbar": {
             "outlinewidth": 0,
             "ticks": ""
            },
            "type": "mesh3d"
           }
          ],
          "parcoords": [
           {
            "line": {
             "colorbar": {
              "outlinewidth": 0,
              "ticks": ""
             }
            },
            "type": "parcoords"
           }
          ],
          "pie": [
           {
            "automargin": true,
            "type": "pie"
           }
          ],
          "scatter": [
           {
            "marker": {
             "colorbar": {
              "outlinewidth": 0,
              "ticks": ""
             }
            },
            "type": "scatter"
           }
          ],
          "scatter3d": [
           {
            "line": {
             "colorbar": {
              "outlinewidth": 0,
              "ticks": ""
             }
            },
            "marker": {
             "colorbar": {
              "outlinewidth": 0,
              "ticks": ""
             }
            },
            "type": "scatter3d"
           }
          ],
          "scattercarpet": [
           {
            "marker": {
             "colorbar": {
              "outlinewidth": 0,
              "ticks": ""
             }
            },
            "type": "scattercarpet"
           }
          ],
          "scattergeo": [
           {
            "marker": {
             "colorbar": {
              "outlinewidth": 0,
              "ticks": ""
             }
            },
            "type": "scattergeo"
           }
          ],
          "scattergl": [
           {
            "marker": {
             "colorbar": {
              "outlinewidth": 0,
              "ticks": ""
             }
            },
            "type": "scattergl"
           }
          ],
          "scattermapbox": [
           {
            "marker": {
             "colorbar": {
              "outlinewidth": 0,
              "ticks": ""
             }
            },
            "type": "scattermapbox"
           }
          ],
          "scatterpolar": [
           {
            "marker": {
             "colorbar": {
              "outlinewidth": 0,
              "ticks": ""
             }
            },
            "type": "scatterpolar"
           }
          ],
          "scatterpolargl": [
           {
            "marker": {
             "colorbar": {
              "outlinewidth": 0,
              "ticks": ""
             }
            },
            "type": "scatterpolargl"
           }
          ],
          "scatterternary": [
           {
            "marker": {
             "colorbar": {
              "outlinewidth": 0,
              "ticks": ""
             }
            },
            "type": "scatterternary"
           }
          ],
          "surface": [
           {
            "colorbar": {
             "outlinewidth": 0,
             "ticks": ""
            },
            "colorscale": [
             [
              0,
              "#0d0887"
             ],
             [
              0.1111111111111111,
              "#46039f"
             ],
             [
              0.2222222222222222,
              "#7201a8"
             ],
             [
              0.3333333333333333,
              "#9c179e"
             ],
             [
              0.4444444444444444,
              "#bd3786"
             ],
             [
              0.5555555555555556,
              "#d8576b"
             ],
             [
              0.6666666666666666,
              "#ed7953"
             ],
             [
              0.7777777777777778,
              "#fb9f3a"
             ],
             [
              0.8888888888888888,
              "#fdca26"
             ],
             [
              1,
              "#f0f921"
             ]
            ],
            "type": "surface"
           }
          ],
          "table": [
           {
            "cells": {
             "fill": {
              "color": "#EBF0F8"
             },
             "line": {
              "color": "white"
             }
            },
            "header": {
             "fill": {
              "color": "#C8D4E3"
             },
             "line": {
              "color": "white"
             }
            },
            "type": "table"
           }
          ]
         },
         "layout": {
          "annotationdefaults": {
           "arrowcolor": "#2a3f5f",
           "arrowhead": 0,
           "arrowwidth": 1
          },
          "autotypenumbers": "strict",
          "coloraxis": {
           "colorbar": {
            "outlinewidth": 0,
            "ticks": ""
           }
          },
          "colorscale": {
           "diverging": [
            [
             0,
             "#8e0152"
            ],
            [
             0.1,
             "#c51b7d"
            ],
            [
             0.2,
             "#de77ae"
            ],
            [
             0.3,
             "#f1b6da"
            ],
            [
             0.4,
             "#fde0ef"
            ],
            [
             0.5,
             "#f7f7f7"
            ],
            [
             0.6,
             "#e6f5d0"
            ],
            [
             0.7,
             "#b8e186"
            ],
            [
             0.8,
             "#7fbc41"
            ],
            [
             0.9,
             "#4d9221"
            ],
            [
             1,
             "#276419"
            ]
           ],
           "sequential": [
            [
             0,
             "#0d0887"
            ],
            [
             0.1111111111111111,
             "#46039f"
            ],
            [
             0.2222222222222222,
             "#7201a8"
            ],
            [
             0.3333333333333333,
             "#9c179e"
            ],
            [
             0.4444444444444444,
             "#bd3786"
            ],
            [
             0.5555555555555556,
             "#d8576b"
            ],
            [
             0.6666666666666666,
             "#ed7953"
            ],
            [
             0.7777777777777778,
             "#fb9f3a"
            ],
            [
             0.8888888888888888,
             "#fdca26"
            ],
            [
             1,
             "#f0f921"
            ]
           ],
           "sequentialminus": [
            [
             0,
             "#0d0887"
            ],
            [
             0.1111111111111111,
             "#46039f"
            ],
            [
             0.2222222222222222,
             "#7201a8"
            ],
            [
             0.3333333333333333,
             "#9c179e"
            ],
            [
             0.4444444444444444,
             "#bd3786"
            ],
            [
             0.5555555555555556,
             "#d8576b"
            ],
            [
             0.6666666666666666,
             "#ed7953"
            ],
            [
             0.7777777777777778,
             "#fb9f3a"
            ],
            [
             0.8888888888888888,
             "#fdca26"
            ],
            [
             1,
             "#f0f921"
            ]
           ]
          },
          "colorway": [
           "#636efa",
           "#EF553B",
           "#00cc96",
           "#ab63fa",
           "#FFA15A",
           "#19d3f3",
           "#FF6692",
           "#B6E880",
           "#FF97FF",
           "#FECB52"
          ],
          "font": {
           "color": "#2a3f5f"
          },
          "geo": {
           "bgcolor": "white",
           "lakecolor": "white",
           "landcolor": "#E5ECF6",
           "showlakes": true,
           "showland": true,
           "subunitcolor": "white"
          },
          "hoverlabel": {
           "align": "left"
          },
          "hovermode": "closest",
          "mapbox": {
           "style": "light"
          },
          "paper_bgcolor": "white",
          "plot_bgcolor": "#E5ECF6",
          "polar": {
           "angularaxis": {
            "gridcolor": "white",
            "linecolor": "white",
            "ticks": ""
           },
           "bgcolor": "#E5ECF6",
           "radialaxis": {
            "gridcolor": "white",
            "linecolor": "white",
            "ticks": ""
           }
          },
          "scene": {
           "xaxis": {
            "backgroundcolor": "#E5ECF6",
            "gridcolor": "white",
            "gridwidth": 2,
            "linecolor": "white",
            "showbackground": true,
            "ticks": "",
            "zerolinecolor": "white"
           },
           "yaxis": {
            "backgroundcolor": "#E5ECF6",
            "gridcolor": "white",
            "gridwidth": 2,
            "linecolor": "white",
            "showbackground": true,
            "ticks": "",
            "zerolinecolor": "white"
           },
           "zaxis": {
            "backgroundcolor": "#E5ECF6",
            "gridcolor": "white",
            "gridwidth": 2,
            "linecolor": "white",
            "showbackground": true,
            "ticks": "",
            "zerolinecolor": "white"
           }
          },
          "shapedefaults": {
           "line": {
            "color": "#2a3f5f"
           }
          },
          "ternary": {
           "aaxis": {
            "gridcolor": "white",
            "linecolor": "white",
            "ticks": ""
           },
           "baxis": {
            "gridcolor": "white",
            "linecolor": "white",
            "ticks": ""
           },
           "bgcolor": "#E5ECF6",
           "caxis": {
            "gridcolor": "white",
            "linecolor": "white",
            "ticks": ""
           }
          },
          "title": {
           "x": 0.05
          },
          "xaxis": {
           "automargin": true,
           "gridcolor": "white",
           "linecolor": "white",
           "ticks": "",
           "title": {
            "standoff": 15
           },
           "zerolinecolor": "white",
           "zerolinewidth": 2
          },
          "yaxis": {
           "automargin": true,
           "gridcolor": "white",
           "linecolor": "white",
           "ticks": "",
           "title": {
            "standoff": 15
           },
           "zerolinecolor": "white",
           "zerolinewidth": 2
          }
         }
        },
        "title": {
         "text": "Metrics over versions"
        },
        "xaxis": {
         "anchor": "y",
         "domain": [
          0,
          1
         ]
        },
        "yaxis": {
         "anchor": "x",
         "domain": [
          0,
          1
         ]
        }
       }
      },
      "text/html": [
       "<div>                            <div id=\"d747bb4f-821a-4206-afe0-aa50b50fd302\" class=\"plotly-graph-div\" style=\"height:525px; width:100%;\"></div>            <script type=\"text/javascript\">                require([\"plotly\"], function(Plotly) {                    window.PLOTLYENV=window.PLOTLYENV || {};                                    if (document.getElementById(\"d747bb4f-821a-4206-afe0-aa50b50fd302\")) {                    Plotly.newPlot(                        \"d747bb4f-821a-4206-afe0-aa50b50fd302\",                        [{\"name\": \"f1\", \"type\": \"scatter\", \"x\": [0, 1, 2, 3, 4, 5, 6, 7, 8, 9, 10, 11, 12, 13, 14, 15, 16, 17, 18], \"y\": [null, null, 0.0, 0.0, 0.0, 0.0, 0.0, 0.0, 0.0, 0.0, 0.0, 0.0, 0.0, 0.971247199402539, 0.880494505494505, 0.856209150326797, 0.755952380952381, 0.869406135660006, 0.722222222222222]}, {\"name\": \"accuracy\", \"type\": \"scatter\", \"x\": [0, 1, 2, 3, 4, 5, 6, 7, 8, 9, 10, 11, 12, 13, 14, 15, 16, 17, 18], \"y\": [null, null, 0.0, 0.0, 0.0, 0.0, 0.0, 0.0, 0.0, 0.0, 0.0, 0.0, 0.0, 0.980769230769231, 0.892857142857143, 0.833333333333333, 0.78125, 0.882352941176471, 0.75]}, {\"name\": \"recall\", \"type\": \"scatter\", \"x\": [0, 1, 2, 3, 4, 5, 6, 7, 8, 9, 10, 11, 12, 13, 14, 15, 16, 17, 18], \"y\": [null, null, 0.0, 0.0, 0.0, 0.0, 0.0, 0.0, 0.0, 0.0, 0.0, 0.0, 0.0, 0.980769230769231, 0.892857142857143, 0.833333333333333, 0.78125, 0.882352941176471, 0.75]}],                        {\"legend\": {\"tracegroupgap\": 0}, \"template\": {\"data\": {\"bar\": [{\"error_x\": {\"color\": \"#2a3f5f\"}, \"error_y\": {\"color\": \"#2a3f5f\"}, \"marker\": {\"line\": {\"color\": \"#E5ECF6\", \"width\": 0.5}}, \"type\": \"bar\"}], \"barpolar\": [{\"marker\": {\"line\": {\"color\": \"#E5ECF6\", \"width\": 0.5}}, \"type\": \"barpolar\"}], \"carpet\": [{\"aaxis\": {\"endlinecolor\": \"#2a3f5f\", \"gridcolor\": \"white\", \"linecolor\": \"white\", \"minorgridcolor\": \"white\", \"startlinecolor\": \"#2a3f5f\"}, \"baxis\": {\"endlinecolor\": \"#2a3f5f\", \"gridcolor\": \"white\", \"linecolor\": \"white\", \"minorgridcolor\": \"white\", \"startlinecolor\": \"#2a3f5f\"}, \"type\": \"carpet\"}], \"choropleth\": [{\"colorbar\": {\"outlinewidth\": 0, \"ticks\": \"\"}, \"type\": \"choropleth\"}], \"contour\": [{\"colorbar\": {\"outlinewidth\": 0, \"ticks\": \"\"}, \"colorscale\": [[0.0, \"#0d0887\"], [0.1111111111111111, \"#46039f\"], [0.2222222222222222, \"#7201a8\"], [0.3333333333333333, \"#9c179e\"], [0.4444444444444444, \"#bd3786\"], [0.5555555555555556, \"#d8576b\"], [0.6666666666666666, \"#ed7953\"], [0.7777777777777778, \"#fb9f3a\"], [0.8888888888888888, \"#fdca26\"], [1.0, \"#f0f921\"]], \"type\": \"contour\"}], \"contourcarpet\": [{\"colorbar\": {\"outlinewidth\": 0, \"ticks\": \"\"}, \"type\": \"contourcarpet\"}], \"heatmap\": [{\"colorbar\": {\"outlinewidth\": 0, \"ticks\": \"\"}, \"colorscale\": [[0.0, \"#0d0887\"], [0.1111111111111111, \"#46039f\"], [0.2222222222222222, \"#7201a8\"], [0.3333333333333333, \"#9c179e\"], [0.4444444444444444, \"#bd3786\"], [0.5555555555555556, \"#d8576b\"], [0.6666666666666666, \"#ed7953\"], [0.7777777777777778, \"#fb9f3a\"], [0.8888888888888888, \"#fdca26\"], [1.0, \"#f0f921\"]], \"type\": \"heatmap\"}], \"heatmapgl\": [{\"colorbar\": {\"outlinewidth\": 0, \"ticks\": \"\"}, \"colorscale\": [[0.0, \"#0d0887\"], [0.1111111111111111, \"#46039f\"], [0.2222222222222222, \"#7201a8\"], [0.3333333333333333, \"#9c179e\"], [0.4444444444444444, \"#bd3786\"], [0.5555555555555556, \"#d8576b\"], [0.6666666666666666, \"#ed7953\"], [0.7777777777777778, \"#fb9f3a\"], [0.8888888888888888, \"#fdca26\"], [1.0, \"#f0f921\"]], \"type\": \"heatmapgl\"}], \"histogram\": [{\"marker\": {\"colorbar\": {\"outlinewidth\": 0, \"ticks\": \"\"}}, \"type\": \"histogram\"}], \"histogram2d\": [{\"colorbar\": {\"outlinewidth\": 0, \"ticks\": \"\"}, \"colorscale\": [[0.0, \"#0d0887\"], [0.1111111111111111, \"#46039f\"], [0.2222222222222222, \"#7201a8\"], [0.3333333333333333, \"#9c179e\"], [0.4444444444444444, \"#bd3786\"], [0.5555555555555556, \"#d8576b\"], [0.6666666666666666, \"#ed7953\"], [0.7777777777777778, \"#fb9f3a\"], [0.8888888888888888, \"#fdca26\"], [1.0, \"#f0f921\"]], \"type\": \"histogram2d\"}], \"histogram2dcontour\": [{\"colorbar\": {\"outlinewidth\": 0, \"ticks\": \"\"}, \"colorscale\": [[0.0, \"#0d0887\"], [0.1111111111111111, \"#46039f\"], [0.2222222222222222, \"#7201a8\"], [0.3333333333333333, \"#9c179e\"], [0.4444444444444444, \"#bd3786\"], [0.5555555555555556, \"#d8576b\"], [0.6666666666666666, \"#ed7953\"], [0.7777777777777778, \"#fb9f3a\"], [0.8888888888888888, \"#fdca26\"], [1.0, \"#f0f921\"]], \"type\": \"histogram2dcontour\"}], \"mesh3d\": [{\"colorbar\": {\"outlinewidth\": 0, \"ticks\": \"\"}, \"type\": \"mesh3d\"}], \"parcoords\": [{\"line\": {\"colorbar\": {\"outlinewidth\": 0, \"ticks\": \"\"}}, \"type\": \"parcoords\"}], \"pie\": [{\"automargin\": true, \"type\": \"pie\"}], \"scatter\": [{\"marker\": {\"colorbar\": {\"outlinewidth\": 0, \"ticks\": \"\"}}, \"type\": \"scatter\"}], \"scatter3d\": [{\"line\": {\"colorbar\": {\"outlinewidth\": 0, \"ticks\": \"\"}}, \"marker\": {\"colorbar\": {\"outlinewidth\": 0, \"ticks\": \"\"}}, \"type\": \"scatter3d\"}], \"scattercarpet\": [{\"marker\": {\"colorbar\": {\"outlinewidth\": 0, \"ticks\": \"\"}}, \"type\": \"scattercarpet\"}], \"scattergeo\": [{\"marker\": {\"colorbar\": {\"outlinewidth\": 0, \"ticks\": \"\"}}, \"type\": \"scattergeo\"}], \"scattergl\": [{\"marker\": {\"colorbar\": {\"outlinewidth\": 0, \"ticks\": \"\"}}, \"type\": \"scattergl\"}], \"scattermapbox\": [{\"marker\": {\"colorbar\": {\"outlinewidth\": 0, \"ticks\": \"\"}}, \"type\": \"scattermapbox\"}], \"scatterpolar\": [{\"marker\": {\"colorbar\": {\"outlinewidth\": 0, \"ticks\": \"\"}}, \"type\": \"scatterpolar\"}], \"scatterpolargl\": [{\"marker\": {\"colorbar\": {\"outlinewidth\": 0, \"ticks\": \"\"}}, \"type\": \"scatterpolargl\"}], \"scatterternary\": [{\"marker\": {\"colorbar\": {\"outlinewidth\": 0, \"ticks\": \"\"}}, \"type\": \"scatterternary\"}], \"surface\": [{\"colorbar\": {\"outlinewidth\": 0, \"ticks\": \"\"}, \"colorscale\": [[0.0, \"#0d0887\"], [0.1111111111111111, \"#46039f\"], [0.2222222222222222, \"#7201a8\"], [0.3333333333333333, \"#9c179e\"], [0.4444444444444444, \"#bd3786\"], [0.5555555555555556, \"#d8576b\"], [0.6666666666666666, \"#ed7953\"], [0.7777777777777778, \"#fb9f3a\"], [0.8888888888888888, \"#fdca26\"], [1.0, \"#f0f921\"]], \"type\": \"surface\"}], \"table\": [{\"cells\": {\"fill\": {\"color\": \"#EBF0F8\"}, \"line\": {\"color\": \"white\"}}, \"header\": {\"fill\": {\"color\": \"#C8D4E3\"}, \"line\": {\"color\": \"white\"}}, \"type\": \"table\"}]}, \"layout\": {\"annotationdefaults\": {\"arrowcolor\": \"#2a3f5f\", \"arrowhead\": 0, \"arrowwidth\": 1}, \"autotypenumbers\": \"strict\", \"coloraxis\": {\"colorbar\": {\"outlinewidth\": 0, \"ticks\": \"\"}}, \"colorscale\": {\"diverging\": [[0, \"#8e0152\"], [0.1, \"#c51b7d\"], [0.2, \"#de77ae\"], [0.3, \"#f1b6da\"], [0.4, \"#fde0ef\"], [0.5, \"#f7f7f7\"], [0.6, \"#e6f5d0\"], [0.7, \"#b8e186\"], [0.8, \"#7fbc41\"], [0.9, \"#4d9221\"], [1, \"#276419\"]], \"sequential\": [[0.0, \"#0d0887\"], [0.1111111111111111, \"#46039f\"], [0.2222222222222222, \"#7201a8\"], [0.3333333333333333, \"#9c179e\"], [0.4444444444444444, \"#bd3786\"], [0.5555555555555556, \"#d8576b\"], [0.6666666666666666, \"#ed7953\"], [0.7777777777777778, \"#fb9f3a\"], [0.8888888888888888, \"#fdca26\"], [1.0, \"#f0f921\"]], \"sequentialminus\": [[0.0, \"#0d0887\"], [0.1111111111111111, \"#46039f\"], [0.2222222222222222, \"#7201a8\"], [0.3333333333333333, \"#9c179e\"], [0.4444444444444444, \"#bd3786\"], [0.5555555555555556, \"#d8576b\"], [0.6666666666666666, \"#ed7953\"], [0.7777777777777778, \"#fb9f3a\"], [0.8888888888888888, \"#fdca26\"], [1.0, \"#f0f921\"]]}, \"colorway\": [\"#636efa\", \"#EF553B\", \"#00cc96\", \"#ab63fa\", \"#FFA15A\", \"#19d3f3\", \"#FF6692\", \"#B6E880\", \"#FF97FF\", \"#FECB52\"], \"font\": {\"color\": \"#2a3f5f\"}, \"geo\": {\"bgcolor\": \"white\", \"lakecolor\": \"white\", \"landcolor\": \"#E5ECF6\", \"showlakes\": true, \"showland\": true, \"subunitcolor\": \"white\"}, \"hoverlabel\": {\"align\": \"left\"}, \"hovermode\": \"closest\", \"mapbox\": {\"style\": \"light\"}, \"paper_bgcolor\": \"white\", \"plot_bgcolor\": \"#E5ECF6\", \"polar\": {\"angularaxis\": {\"gridcolor\": \"white\", \"linecolor\": \"white\", \"ticks\": \"\"}, \"bgcolor\": \"#E5ECF6\", \"radialaxis\": {\"gridcolor\": \"white\", \"linecolor\": \"white\", \"ticks\": \"\"}}, \"scene\": {\"xaxis\": {\"backgroundcolor\": \"#E5ECF6\", \"gridcolor\": \"white\", \"gridwidth\": 2, \"linecolor\": \"white\", \"showbackground\": true, \"ticks\": \"\", \"zerolinecolor\": \"white\"}, \"yaxis\": {\"backgroundcolor\": \"#E5ECF6\", \"gridcolor\": \"white\", \"gridwidth\": 2, \"linecolor\": \"white\", \"showbackground\": true, \"ticks\": \"\", \"zerolinecolor\": \"white\"}, \"zaxis\": {\"backgroundcolor\": \"#E5ECF6\", \"gridcolor\": \"white\", \"gridwidth\": 2, \"linecolor\": \"white\", \"showbackground\": true, \"ticks\": \"\", \"zerolinecolor\": \"white\"}}, \"shapedefaults\": {\"line\": {\"color\": \"#2a3f5f\"}}, \"ternary\": {\"aaxis\": {\"gridcolor\": \"white\", \"linecolor\": \"white\", \"ticks\": \"\"}, \"baxis\": {\"gridcolor\": \"white\", \"linecolor\": \"white\", \"ticks\": \"\"}, \"bgcolor\": \"#E5ECF6\", \"caxis\": {\"gridcolor\": \"white\", \"linecolor\": \"white\", \"ticks\": \"\"}}, \"title\": {\"x\": 0.05}, \"xaxis\": {\"automargin\": true, \"gridcolor\": \"white\", \"linecolor\": \"white\", \"ticks\": \"\", \"title\": {\"standoff\": 15}, \"zerolinecolor\": \"white\", \"zerolinewidth\": 2}, \"yaxis\": {\"automargin\": true, \"gridcolor\": \"white\", \"linecolor\": \"white\", \"ticks\": \"\", \"title\": {\"standoff\": 15}, \"zerolinecolor\": \"white\", \"zerolinewidth\": 2}}}, \"title\": {\"text\": \"Metrics over versions\"}, \"xaxis\": {\"anchor\": \"y\", \"domain\": [0.0, 1.0]}, \"yaxis\": {\"anchor\": \"x\", \"domain\": [0.0, 1.0]}},                        {\"responsive\": true}                    ).then(function(){\n",
       "                            \n",
       "var gd = document.getElementById('d747bb4f-821a-4206-afe0-aa50b50fd302');\n",
       "var x = new MutationObserver(function (mutations, observer) {{\n",
       "        var display = window.getComputedStyle(gd).display;\n",
       "        if (!display || display === 'none') {{\n",
       "            console.log([gd, 'removed!']);\n",
       "            Plotly.purge(gd);\n",
       "            observer.disconnect();\n",
       "        }}\n",
       "}});\n",
       "\n",
       "// Listen for the removal of the full notebook cells\n",
       "var notebookContainer = gd.closest('#notebook-container');\n",
       "if (notebookContainer) {{\n",
       "    x.observe(notebookContainer, {childList: true});\n",
       "}}\n",
       "\n",
       "// Listen for the clearing of the current output cell\n",
       "var outputEl = gd.closest('.output');\n",
       "if (outputEl) {{\n",
       "    x.observe(outputEl, {childList: true});\n",
       "}}\n",
       "\n",
       "                        })                };                });            </script>        </div>"
      ]
     },
     "metadata": {},
     "output_type": "display_data"
    }
   ],
   "source": [
    "fig = px.scatter(title=\"Metrics over versions\")\n",
    "fig.add_scatter(x=results_odered.index, y=results_odered[\"metrics.f1\"],name=\"f1\")\n",
    "fig.add_scatter(x=results_odered.index, y=results_odered[\"metrics.accuracy\"],name=\"accuracy\")\n",
    "fig.add_scatter(x=results_odered.index, y=results_odered[\"metrics.recall\"],name=\"recall\")\n",
    "fig.show()"
   ]
  }
 ],
 "metadata": {
  "kernelspec": {
   "display_name": "Python 3",
   "language": "python",
   "name": "python3"
  },
  "language_info": {
   "codemirror_mode": {
    "name": "ipython",
    "version": 3
   },
   "file_extension": ".py",
   "mimetype": "text/x-python",
   "name": "python",
   "nbconvert_exporter": "python",
   "pygments_lexer": "ipython3",
   "version": "3.6.9"
  }
 },
 "nbformat": 4,
 "nbformat_minor": 5
}
